{
  "nbformat": 4,
  "nbformat_minor": 0,
  "metadata": {
    "colab": {
      "name": "EMNIST.ipynb",
      "provenance": []
    },
    "kernelspec": {
      "display_name": "Python 3",
      "language": "python",
      "name": "python3"
    },
    "language_info": {
      "codemirror_mode": {
        "name": "ipython",
        "version": 3
      },
      "file_extension": ".py",
      "mimetype": "text/x-python",
      "name": "python",
      "nbconvert_exporter": "python",
      "pygments_lexer": "ipython3",
      "version": "3.8.5"
    }
  },
  "cells": [
    {
      "cell_type": "code",
      "metadata": {
        "colab": {
          "base_uri": "https://localhost:8080/"
        },
        "id": "G2vPlgvFvLFe",
        "outputId": "dc993603-7ecd-4600-f960-662512d343db"
      },
      "source": [
        "!pip install emnist"
      ],
      "execution_count": null,
      "outputs": [
        {
          "output_type": "stream",
          "text": [
            "Collecting emnist\n",
            "  Downloading https://files.pythonhosted.org/packages/d1/f4/78b24acbef9e8fe976dda700f16a3606f3b8363b015bc555f8050fbbd8ac/emnist-0.0-py3-none-any.whl\n",
            "Requirement already satisfied: tqdm in /usr/local/lib/python3.7/dist-packages (from emnist) (4.41.1)\n",
            "Requirement already satisfied: numpy in /usr/local/lib/python3.7/dist-packages (from emnist) (1.19.5)\n",
            "Requirement already satisfied: requests in /usr/local/lib/python3.7/dist-packages (from emnist) (2.23.0)\n",
            "Requirement already satisfied: chardet<4,>=3.0.2 in /usr/local/lib/python3.7/dist-packages (from requests->emnist) (3.0.4)\n",
            "Requirement already satisfied: certifi>=2017.4.17 in /usr/local/lib/python3.7/dist-packages (from requests->emnist) (2020.12.5)\n",
            "Requirement already satisfied: idna<3,>=2.5 in /usr/local/lib/python3.7/dist-packages (from requests->emnist) (2.10)\n",
            "Requirement already satisfied: urllib3!=1.25.0,!=1.25.1,<1.26,>=1.21.1 in /usr/local/lib/python3.7/dist-packages (from requests->emnist) (1.24.3)\n",
            "Installing collected packages: emnist\n",
            "Successfully installed emnist-0.0\n"
          ],
          "name": "stdout"
        }
      ]
    },
    {
      "cell_type": "code",
      "metadata": {
        "id": "cJhHvhXOvP8b"
      },
      "source": [
        "from emnist import extract_training_samples\n",
        "#  ['balanced', 'byclass', 'bymerge', 'digits', 'letters', 'mnist']\n",
        "from emnist import extract_test_samples\n",
        "import pandas as pd \n",
        "import numpy as np\n",
        "import datetime \n",
        "from sklearn.metrics import precision_score\n",
        "from sklearn.metrics import recall_score\n",
        "from sklearn.metrics import accuracy_score\n",
        "from sklearn.metrics import f1_score\n",
        "from sklearn.model_selection import GridSearchCV"
      ],
      "execution_count": null,
      "outputs": []
    },
    {
      "cell_type": "markdown",
      "metadata": {
        "id": "5kY0y9wf8bHM"
      },
      "source": [
        "## **Reshape**"
      ]
    },
    {
      "cell_type": "code",
      "metadata": {
        "colab": {
          "base_uri": "https://localhost:8080/"
        },
        "id": "kXc3uV05vUsm",
        "outputId": "09efe93f-3b63-4dea-8899-6c16c920bcab"
      },
      "source": [
        "images_train, trainY = extract_training_samples('balanced')\n",
        "images_test, testY = extract_test_samples('balanced')\n",
        "trainX =images_train.reshape(images_train.shape[0],28*28)\n",
        "testX = images_test.reshape(images_test.shape[0],28*28)"
      ],
      "execution_count": null,
      "outputs": [
        {
          "output_type": "stream",
          "text": [
            "Downloading emnist.zip: 536MB [00:07, 71.2MB/s]\n"
          ],
          "name": "stderr"
        }
      ]
    },
    {
      "cell_type": "code",
      "metadata": {
        "id": "aHSgsUQnLPQU",
        "colab": {
          "base_uri": "https://localhost:8080/"
        },
        "outputId": "4c7ee015-f211-4097-e82b-edcd1fac5891"
      },
      "source": [
        "images_train.shape"
      ],
      "execution_count": null,
      "outputs": [
        {
          "output_type": "execute_result",
          "data": {
            "text/plain": [
              "(112800, 28, 28)"
            ]
          },
          "metadata": {
            "tags": []
          },
          "execution_count": 5
        }
      ]
    },
    {
      "cell_type": "code",
      "metadata": {
        "id": "xs7iHiALLPQV",
        "colab": {
          "base_uri": "https://localhost:8080/"
        },
        "outputId": "094d2e92-b4b9-4761-ac16-5a96871de775"
      },
      "source": [
        "trainX.shape"
      ],
      "execution_count": null,
      "outputs": [
        {
          "output_type": "execute_result",
          "data": {
            "text/plain": [
              "(112800, 784)"
            ]
          },
          "metadata": {
            "tags": []
          },
          "execution_count": 4
        }
      ]
    },
    {
      "cell_type": "markdown",
      "metadata": {
        "id": "zUc7gdrz8liT"
      },
      "source": [
        "## **Split training & validation**"
      ]
    },
    {
      "cell_type": "code",
      "metadata": {
        "id": "7k0ecYLv7xrS"
      },
      "source": [
        "from sklearn.model_selection import train_test_split\n",
        "trainX, validationX, trainY, validationY = train_test_split(trainX,trainY,test_size = 0.2)"
      ],
      "execution_count": null,
      "outputs": []
    },
    {
      "cell_type": "markdown",
      "metadata": {
        "id": "7ZUbHxs-82HX"
      },
      "source": [
        "##**Normalization**##"
      ]
    },
    {
      "cell_type": "code",
      "metadata": {
        "id": "Llh38BNi8609"
      },
      "source": [
        "from sklearn.preprocessing import MinMaxScaler\n",
        "scaler = MinMaxScaler()\n",
        "scaler.fit(trainX)\n",
        "train = scaler.transform(trainX)\n",
        "validation = scaler.transform(validationX)\n",
        "test = scaler.transform(testX)"
      ],
      "execution_count": null,
      "outputs": []
    },
    {
      "cell_type": "markdown",
      "metadata": {
        "id": "v0VH1b5HJs7C"
      },
      "source": [
        "##**Imply to different models**##"
      ]
    },
    {
      "cell_type": "code",
      "metadata": {
        "id": "9yLy9NSHIyF7"
      },
      "source": [
        "#SVM \n",
        "from sklearn import svm\n",
        "start = datetime.datetime.now()\n",
        "clf = svm.SVC()\n",
        "clf.fit(trainX,trainY)\n",
        "#time used for training the model\n",
        "time_used = datetime.datetime.now() - start\n",
        "print(\"time_usage_for_training:\", time_used)\n",
        "pred_train = clf.predict(trainX)\n",
        "pred_val = clf.predict(validationX)\n",
        "pred_test = clf.predict(testX)\n",
        "#accuracy, precision, F1 score, recall \n",
        "precision_train = precision_score(trainY, pred_train, average = \"micro\")\n",
        "recall_train = recall_score(trainY, pred_train, average = \"micro\")\n",
        "accuracy_train = accuracy_score(trainY, pred_train)\n",
        "f1score_train = f1_score(trainY, pred_train, average = \"micro\")\n",
        "precision_val = precision_score(validationY, pred_val, average = \"micro\")\n",
        "recall_val = recall_score(validationY, pred_val, average = \"micro\")\n",
        "accuracy_val = accuracy_score(validationY, pred_val)\n",
        "f1score_val = f1_score(validationY, pred_val, average = \"micro\")\n",
        "precision_test = precision_score(testY, pred_test, average = \"micro\")\n",
        "recall_test = recall_score(testY, pred_test, average = \"micro\")\n",
        "accuracy_test = accuracy_score(testY, pred_test)\n",
        "f1score_test = f1_score(testY, pred_test, average = \"micro\")\n",
        "print(\"preison_train:\", precision_train)\n",
        "print(\"recall_train:\", recall_train)\n",
        "print(\"accuracy_train:\", accuracy_train)\n",
        "print(\"f1_score_train:\", f1score_train)\n",
        "print(\"preison_validation:\", precision_val)\n",
        "print(\"recall_validation:\", recall_val)\n",
        "print(\"accuracy_validation:\", accuracy_val)\n",
        "print(\"f1_score_validation:\", f1score_val)\n",
        "print(\"preison_test:\", precision_test)\n",
        "print(\"recall_test:\", recall_test)\n",
        "print(\"accuracy_test:\", accuracy_test)\n",
        "print(\"f1_score_test:\", f1score_test)"
      ],
      "execution_count": null,
      "outputs": []
    },
    {
      "cell_type": "code",
      "metadata": {
        "id": "8iEpzJAGKint"
      },
      "source": [
        "#knn\n",
        "from sklearn.neighbors import KNeighborsClassifier \n",
        "start = datetime.datetime.now()\n",
        "neigh = KNeighborsClassifier(n_neighbors=5)\n",
        "neigh.fit(trainX,trainY)\n",
        "#time used for training the model\n",
        "time_used = datetime.datetime.now() - start\n",
        "print(\"time_usage_for_training:\", time_used)\n",
        "pred_train = neigh.predict(trainX)\n",
        "pred_train = neigh.predict(trainX)\n",
        "pred_val = neigh.predict(validationX)\n",
        "pred_test = neigh.predict(testX)\n",
        "#accuracy, precision, F1 score, recall \n",
        "precision_train = precision_score(trainY, pred_train, average = \"micro\")\n",
        "recall_train = recall_score(trainY, pred_train, average = \"micro\")\n",
        "accuracy_train = accuracy_score(trainY, pred_train)\n",
        "f1score_train = f1_score(trainY, pred_train, average = \"micro\")\n",
        "precision_val = precision_score(validationY, pred_val, average = \"micro\")\n",
        "recall_val = recall_score(validationY, pred_val, average = \"micro\")\n",
        "accuracy_val = accuracy_score(validationY, pred_val)\n",
        "f1score_val = f1_score(validationY, pred_val, average = \"micro\")\n",
        "precision_test = precision_score(testY, pred_test, average = \"micro\")\n",
        "recall_test = recall_score(testY, pred_test, average = \"micro\")\n",
        "accuracy_test = accuracy_score(testY, pred_test)\n",
        "f1score_test = f1_score(testY, pred_test, average = \"micro\")\n",
        "print(\"preison_train:\", precision_train)\n",
        "print(\"recall_train:\", recall_train)\n",
        "print(\"accuracy_train:\", accuracy_train)\n",
        "print(\"f1_score_train:\", f1score_train)\n",
        "print(\"preison_validation:\", precision_val)\n",
        "print(\"recall_validation:\", recall_val)\n",
        "print(\"accuracy_validation:\", accuracy_val)\n",
        "print(\"f1_score_validation:\", f1score_val)\n",
        "print(\"preison_test:\", precision_test)\n",
        "print(\"recall_test:\", recall_test)\n",
        "print(\"accuracy_test:\", accuracy_test)\n",
        "print(\"f1_score_test:\", f1score_test)"
      ],
      "execution_count": null,
      "outputs": []
    },
    {
      "cell_type": "code",
      "metadata": {
        "id": "YdSC_7PaMSDH"
      },
      "source": [
        "#Logistic regression\n",
        "from sklearn.linear_model import LogisticRegression\n",
        "start = datetime.datetime.now()\n",
        "clf = LogisticRegression(max_iter = 30000)\n",
        "clf.fit(trainX,trainY)\n",
        "#time used for training the model\n",
        "time_used = datetime.datetime.now() - start\n",
        "print(\"time_usage_for_training:\", time_used)\n",
        "pred_train = clf.predict(trainX)\n",
        "pred_train = clf.predict(trainX)\n",
        "pred_val = clf.predict(validationX)\n",
        "pred_test = clf.predict(testX)\n",
        "#accuracy, precision, F1 score, recall \n",
        "precision_train = precision_score(trainY, pred_train, average = \"micro\")\n",
        "recall_train = recall_score(trainY, pred_train, average = \"micro\")\n",
        "accuracy_train = accuracy_score(trainY, pred_train)\n",
        "f1score_train = f1_score(trainY, pred_train, average = \"micro\")\n",
        "precision_val = precision_score(validationY, pred_val, average = \"micro\")\n",
        "recall_val = recall_score(validationY, pred_val, average = \"micro\")\n",
        "accuracy_val = accuracy_score(validationY, pred_val)\n",
        "f1score_val = f1_score(validationY, pred_val, average = \"micro\")\n",
        "precision_test = precision_score(testY, pred_test, average = \"micro\")\n",
        "recall_test = recall_score(testY, pred_test, average = \"micro\")\n",
        "accuracy_test = accuracy_score(testY, pred_test)\n",
        "f1score_test = f1_score(testY, pred_test, average = \"micro\")\n",
        "print(\"preison_train:\", precision_train)\n",
        "print(\"recall_train:\", recall_train)\n",
        "print(\"accuracy_train:\", accuracy_train)\n",
        "print(\"f1_score_train:\", f1score_train)\n",
        "print(\"preison_validation:\", precision_val)\n",
        "print(\"recall_validation:\", recall_val)\n",
        "print(\"accuracy_validation:\", accuracy_val)\n",
        "print(\"f1_score_validation:\", f1score_val)\n",
        "print(\"preison_test:\", precision_test)\n",
        "print(\"recall_test:\", recall_test)\n",
        "print(\"accuracy_test:\", accuracy_test)\n",
        "print(\"f1_score_test:\", f1score_test)"
      ],
      "execution_count": null,
      "outputs": []
    },
    {
      "cell_type": "code",
      "metadata": {
        "id": "0bZiydKQMSN0"
      },
      "source": [
        "#Decision tree classification \n",
        "from sklearn.tree import DecisionTreeClassifier\n",
        "start = datetime.datetime.now()\n",
        "clf = DecisionTreeClassifier(max_depth=10)\n",
        "clf.fit(trainX, trainY)\n",
        "#time used for training the model\n",
        "time_used = datetime.datetime.now() - start\n",
        "print(\"time_usage_for_training:\", time_used)\n",
        "pred_train = clf.predict(trainX)\n",
        "pred_train = clf.predict(trainX)\n",
        "pred_val = clf.predict(validationX)\n",
        "pred_test = clf.predict(testX)\n",
        "#accuracy, precision, F1 score, recall \n",
        "precision_train = precision_score(trainY, pred_train, average = \"micro\")\n",
        "recall_train = recall_score(trainY, pred_train, average = \"micro\")\n",
        "accuracy_train = accuracy_score(trainY, pred_train)\n",
        "f1score_train = f1_score(trainY, pred_train, average = \"micro\")\n",
        "precision_val = precision_score(validationY, pred_val, average = \"micro\")\n",
        "recall_val = recall_score(validationY, pred_val, average = \"micro\")\n",
        "accuracy_val = accuracy_score(validationY, pred_val)\n",
        "f1score_val = f1_score(validationY, pred_val, average = \"micro\")\n",
        "precision_test = precision_score(testY, pred_test, average = \"micro\")\n",
        "recall_test = recall_score(testY, pred_test, average = \"micro\")\n",
        "accuracy_test = accuracy_score(testY, pred_test)\n",
        "f1score_test = f1_score(testY, pred_test, average = \"micro\")\n",
        "print(\"preison_train:\", precision_train)\n",
        "print(\"recall_train:\", recall_train)\n",
        "print(\"accuracy_train:\", accuracy_train)\n",
        "print(\"f1_score_train:\", f1score_train)\n",
        "print(\"preison_validation:\", precision_val)\n",
        "print(\"recall_validation:\", recall_val)\n",
        "print(\"accuracy_validation:\", accuracy_val)\n",
        "print(\"f1_score_validation:\", f1score_val)\n",
        "print(\"preison_test:\", precision_test)\n",
        "print(\"recall_test:\", recall_test)\n",
        "print(\"accuracy_test:\", accuracy_test)\n",
        "print(\"f1_score_test:\", f1score_test)"
      ],
      "execution_count": null,
      "outputs": []
    },
    {
      "cell_type": "code",
      "metadata": {
        "id": "ME19JBhHMSXv"
      },
      "source": [
        "#Random forest classification \n",
        "from sklearn.ensemble import RandomForestClassifier\n",
        "start = datetime.datetime.now()\n",
        "clf = RandomForestClassifier()\n",
        "clf.fit(trainX, trainY)\n",
        "#time used for training the model\n",
        "time_used = datetime.datetime.now() - start\n",
        "print(\"time_usage_for_training:\", time_used)\n",
        "pred_train = clf.predict(trainX)\n",
        "pred_train = clf.predict(trainX)\n",
        "pred_val = clf.predict(validationX)\n",
        "pred_test = clf.predict(testX)\n",
        "#accuracy, precision, F1 score, recall \n",
        "precision_train = precision_score(trainY, pred_train, average = \"micro\")\n",
        "recall_train = recall_score(trainY, pred_train, average = \"micro\")\n",
        "accuracy_train = accuracy_score(trainY, pred_train)\n",
        "f1score_train = f1_score(trainY, pred_train, average = \"micro\")\n",
        "precision_val = precision_score(validationY, pred_val, average = \"micro\")\n",
        "recall_val = recall_score(validationY, pred_val, average = \"micro\")\n",
        "accuracy_val = accuracy_score(validationY, pred_val)\n",
        "f1score_val = f1_score(validationY, pred_val, average = \"micro\")\n",
        "precision_test = precision_score(testY, pred_test, average = \"micro\")\n",
        "recall_test = recall_score(testY, pred_test, average = \"micro\")\n",
        "accuracy_test = accuracy_score(testY, pred_test)\n",
        "f1score_test = f1_score(testY, pred_test, average = \"micro\")\n",
        "print(\"preison_train:\", precision_train)\n",
        "print(\"recall_train:\", recall_train)\n",
        "print(\"accuracy_train:\", accuracy_train)\n",
        "print(\"f1_score_train:\", f1score_train)\n",
        "print(\"preison_validation:\", precision_val)\n",
        "print(\"recall_validation:\", recall_val)\n",
        "print(\"accuracy_validation:\", accuracy_val)\n",
        "print(\"f1_score_validation:\", f1score_val)\n",
        "print(\"preison_test:\", precision_test)\n",
        "print(\"recall_test:\", recall_test)\n",
        "print(\"accuracy_test:\", accuracy_test)\n",
        "print(\"f1_score_test:\", f1score_test)"
      ],
      "execution_count": null,
      "outputs": []
    },
    {
      "cell_type": "code",
      "metadata": {
        "id": "smJiBHM_LPQd"
      },
      "source": [
        "import tensorflow as tf \n",
        "from tensorflow import keras \n",
        "from tensorflow.keras import layers \n",
        "from tensorflow.keras import Sequential  \n",
        "from keras.layers import Dense, Dropout, Activation, Flatten\n",
        "from keras.layers import Conv2D, MaxPool2D\n",
        "from tensorflow.keras.utils import to_categorical \n",
        "import sklearn\n",
        "from sklearn.model_selection import train_test_split"
      ],
      "execution_count": null,
      "outputs": []
    },
    {
      "cell_type": "code",
      "metadata": {
        "id": "xxcYSrFBLPQe"
      },
      "source": [
        "images_train, trainY = extract_training_samples('balanced')\n",
        "images_test, testY = extract_test_samples('balanced')\n",
        "#reshape data\n",
        "trainX =images_train.reshape(images_train.shape[0],28,28,1)\n",
        "testX = images_test.reshape(images_test.shape[0],28,28,1)\n",
        "#normalization \n",
        "trainX = tf.keras.utils.normalize(trainX, axis=-1, order=2)\n",
        "testX = tf.keras.utils.normalize(testX, axis=-1, order=2)\n",
        "#train validation split \n",
        "trainX, validationX, trainY, validationY = train_test_split(trainX,trainY,test_size = 0.2)\n",
        "#to_caegorical \n",
        "#trainY = to_categorical (trainY)\n",
        "#validationY = to_categorical(validationY)\n",
        "#testY = to_categorical(testY)"
      ],
      "execution_count": null,
      "outputs": []
    },
    {
      "cell_type": "code",
      "metadata": {
        "id": "POpkQJQOLPQe"
      },
      "source": [
        "#Experiment 1-- Number of convolutional layers \n",
        "nets = 3 \n",
        "model = [0]*nets \n",
        "for j in range(3):\n",
        "    model[j] = Sequential()\n",
        "    model[j].add(Conv2D(24,kernel_size=5,padding='same',activation='relu',\n",
        "            input_shape=(28,28,1)))\n",
        "    model[j].add(MaxPool2D())\n",
        "    if j>0:\n",
        "        model[j].add(Conv2D(48,kernel_size=5,padding='same',activation='relu'))\n",
        "        model[j].add(MaxPool2D())\n",
        "    if j>1:\n",
        "        model[j].add(Conv2D(64,kernel_size=5,padding='same',activation='relu'))\n",
        "        model[j].add(MaxPool2D(padding='same'))\n",
        "    model[j].add(Flatten())\n",
        "    model[j].add(Dense(256, activation='relu'))\n",
        "    model[j].add(Dense(47, activation='sigmoid'))\n",
        "    model[j].compile(optimizer=\"adam\", loss=\"binary_crossentropy\", metrics=[\"accuracy\"])"
      ],
      "execution_count": null,
      "outputs": []
    },
    {
      "cell_type": "code",
      "metadata": {
        "id": "r-9D4l0vLPQf",
        "outputId": "a7211cad-3e23-4eb1-b438-647ec0f72bba"
      },
      "source": [
        "train_result = []\n",
        "for i in range (3):\n",
        "    train = model[i].fit(trainX, trainY,batch_size = 128, epochs = 20,\n",
        "                 validation_data=(validationX,validationY))\n",
        "    train_result.append(train)"
      ],
      "execution_count": null,
      "outputs": [
        {
          "output_type": "stream",
          "text": [
            "Epoch 1/20\n",
            "705/705 [==============================] - 49s 68ms/step - loss: 0.0780 - accuracy: 0.4776 - val_loss: 0.0297 - val_accuracy: 0.7645\n",
            "Epoch 2/20\n",
            "705/705 [==============================] - 47s 67ms/step - loss: 0.0270 - accuracy: 0.7843 - val_loss: 0.0250 - val_accuracy: 0.7929\n",
            "Epoch 3/20\n",
            "705/705 [==============================] - 47s 67ms/step - loss: 0.0221 - accuracy: 0.8231 - val_loss: 0.0222 - val_accuracy: 0.8217\n",
            "Epoch 4/20\n",
            "705/705 [==============================] - 47s 67ms/step - loss: 0.0198 - accuracy: 0.8384 - val_loss: 0.0212 - val_accuracy: 0.8281\n",
            "Epoch 5/20\n",
            "705/705 [==============================] - 47s 66ms/step - loss: 0.0182 - accuracy: 0.8506 - val_loss: 0.0203 - val_accuracy: 0.8339\n",
            "Epoch 6/20\n",
            "705/705 [==============================] - 48s 67ms/step - loss: 0.0167 - accuracy: 0.8619 - val_loss: 0.0199 - val_accuracy: 0.8359\n",
            "Epoch 7/20\n",
            "705/705 [==============================] - 48s 68ms/step - loss: 0.0158 - accuracy: 0.8690 - val_loss: 0.0198 - val_accuracy: 0.8397\n",
            "Epoch 8/20\n",
            "705/705 [==============================] - 47s 67ms/step - loss: 0.0148 - accuracy: 0.8787 - val_loss: 0.0196 - val_accuracy: 0.8403\n",
            "Epoch 9/20\n",
            "705/705 [==============================] - 47s 67ms/step - loss: 0.0138 - accuracy: 0.8855 - val_loss: 0.0198 - val_accuracy: 0.8391\n",
            "Epoch 10/20\n",
            "705/705 [==============================] - 47s 66ms/step - loss: 0.0129 - accuracy: 0.8945 - val_loss: 0.0199 - val_accuracy: 0.8422\n",
            "Epoch 11/20\n",
            "705/705 [==============================] - 47s 67ms/step - loss: 0.0119 - accuracy: 0.9028 - val_loss: 0.0201 - val_accuracy: 0.8391\n",
            "Epoch 12/20\n",
            "705/705 [==============================] - 47s 67ms/step - loss: 0.0111 - accuracy: 0.9113 - val_loss: 0.0205 - val_accuracy: 0.8431\n",
            "Epoch 13/20\n",
            "705/705 [==============================] - 47s 67ms/step - loss: 0.0101 - accuracy: 0.9195 - val_loss: 0.0214 - val_accuracy: 0.8391\n",
            "Epoch 14/20\n",
            "705/705 [==============================] - 47s 67ms/step - loss: 0.0094 - accuracy: 0.9252 - val_loss: 0.0220 - val_accuracy: 0.8398\n",
            "Epoch 15/20\n",
            "705/705 [==============================] - 48s 68ms/step - loss: 0.0084 - accuracy: 0.9366 - val_loss: 0.0233 - val_accuracy: 0.8339\n",
            "Epoch 16/20\n",
            "705/705 [==============================] - 48s 68ms/step - loss: 0.0077 - accuracy: 0.9410 - val_loss: 0.0239 - val_accuracy: 0.8315\n",
            "Epoch 17/20\n",
            "705/705 [==============================] - 48s 68ms/step - loss: 0.0069 - accuracy: 0.9479 - val_loss: 0.0251 - val_accuracy: 0.8336\n",
            "Epoch 18/20\n",
            "705/705 [==============================] - 48s 68ms/step - loss: 0.0062 - accuracy: 0.9528 - val_loss: 0.0267 - val_accuracy: 0.8330\n",
            "Epoch 19/20\n",
            "705/705 [==============================] - 48s 68ms/step - loss: 0.0057 - accuracy: 0.9578 - val_loss: 0.0272 - val_accuracy: 0.8328\n",
            "Epoch 20/20\n",
            "705/705 [==============================] - 48s 68ms/step - loss: 0.0050 - accuracy: 0.9652 - val_loss: 0.0286 - val_accuracy: 0.8304\n",
            "Epoch 1/20\n",
            "705/705 [==============================] - 106s 150ms/step - loss: 0.0919 - accuracy: 0.4048 - val_loss: 0.0254 - val_accuracy: 0.7987\n",
            "Epoch 2/20\n",
            "705/705 [==============================] - 104s 148ms/step - loss: 0.0233 - accuracy: 0.8119 - val_loss: 0.0208 - val_accuracy: 0.8295\n",
            "Epoch 3/20\n",
            "705/705 [==============================] - 105s 150ms/step - loss: 0.0189 - accuracy: 0.8434 - val_loss: 0.0193 - val_accuracy: 0.8404\n",
            "Epoch 4/20\n",
            "705/705 [==============================] - 104s 148ms/step - loss: 0.0167 - accuracy: 0.8595 - val_loss: 0.0175 - val_accuracy: 0.8514\n",
            "Epoch 5/20\n",
            "705/705 [==============================] - 105s 148ms/step - loss: 0.0152 - accuracy: 0.8711 - val_loss: 0.0172 - val_accuracy: 0.8536\n",
            "Epoch 6/20\n",
            "705/705 [==============================] - 101s 143ms/step - loss: 0.0140 - accuracy: 0.8812 - val_loss: 0.0166 - val_accuracy: 0.8618\n",
            "Epoch 7/20\n",
            "705/705 [==============================] - 101s 144ms/step - loss: 0.0130 - accuracy: 0.8887 - val_loss: 0.0172 - val_accuracy: 0.8583\n",
            "Epoch 8/20\n",
            "705/705 [==============================] - 100s 142ms/step - loss: 0.0120 - accuracy: 0.8978 - val_loss: 0.0165 - val_accuracy: 0.8641\n",
            "Epoch 9/20\n",
            "705/705 [==============================] - 101s 143ms/step - loss: 0.0111 - accuracy: 0.9052 - val_loss: 0.0172 - val_accuracy: 0.8597\n",
            "Epoch 10/20\n",
            "705/705 [==============================] - 100s 143ms/step - loss: 0.0104 - accuracy: 0.9118 - val_loss: 0.0171 - val_accuracy: 0.8633\n",
            "Epoch 11/20\n",
            "705/705 [==============================] - 101s 143ms/step - loss: 0.0096 - accuracy: 0.9185 - val_loss: 0.0173 - val_accuracy: 0.8628\n",
            "Epoch 12/20\n",
            "705/705 [==============================] - 101s 143ms/step - loss: 0.0089 - accuracy: 0.9239 - val_loss: 0.0184 - val_accuracy: 0.8594\n",
            "Epoch 13/20\n",
            "705/705 [==============================] - 101s 143ms/step - loss: 0.0082 - accuracy: 0.9306 - val_loss: 0.0193 - val_accuracy: 0.8540\n",
            "Epoch 14/20\n",
            "705/705 [==============================] - 101s 144ms/step - loss: 0.0076 - accuracy: 0.9344 - val_loss: 0.0204 - val_accuracy: 0.8518\n",
            "Epoch 15/20\n",
            "705/705 [==============================] - 101s 143ms/step - loss: 0.0070 - accuracy: 0.9412 - val_loss: 0.0205 - val_accuracy: 0.8570\n",
            "Epoch 16/20\n",
            "705/705 [==============================] - 101s 143ms/step - loss: 0.0066 - accuracy: 0.9445 - val_loss: 0.0221 - val_accuracy: 0.8562\n",
            "Epoch 17/20\n",
            "705/705 [==============================] - 103s 146ms/step - loss: 0.0061 - accuracy: 0.9483 - val_loss: 0.0234 - val_accuracy: 0.8544\n",
            "Epoch 18/20\n",
            "705/705 [==============================] - 100s 142ms/step - loss: 0.0056 - accuracy: 0.9536 - val_loss: 0.0242 - val_accuracy: 0.8532\n",
            "Epoch 19/20\n",
            "705/705 [==============================] - 100s 142ms/step - loss: 0.0052 - accuracy: 0.9572 - val_loss: 0.0253 - val_accuracy: 0.8509\n",
            "Epoch 20/20\n",
            "705/705 [==============================] - 100s 142ms/step - loss: 0.0048 - accuracy: 0.9620 - val_loss: 0.0271 - val_accuracy: 0.8503\n",
            "Epoch 1/20\n",
            "705/705 [==============================] - 131s 185ms/step - loss: 0.0921 - accuracy: 0.3657 - val_loss: 0.0229 - val_accuracy: 0.8158\n",
            "Epoch 2/20\n",
            "705/705 [==============================] - 130s 185ms/step - loss: 0.0206 - accuracy: 0.8267 - val_loss: 0.0182 - val_accuracy: 0.8445\n",
            "Epoch 3/20\n",
            "705/705 [==============================] - 130s 185ms/step - loss: 0.0166 - accuracy: 0.8564 - val_loss: 0.0171 - val_accuracy: 0.8516\n",
            "Epoch 4/20\n",
            "705/705 [==============================] - 130s 184ms/step - loss: 0.0146 - accuracy: 0.8735 - val_loss: 0.0161 - val_accuracy: 0.8581\n",
            "Epoch 5/20\n",
            "705/705 [==============================] - 130s 184ms/step - loss: 0.0134 - accuracy: 0.8819 - val_loss: 0.0157 - val_accuracy: 0.8650\n",
            "Epoch 6/20\n",
            "705/705 [==============================] - 130s 184ms/step - loss: 0.0123 - accuracy: 0.8915 - val_loss: 0.0156 - val_accuracy: 0.8669\n",
            "Epoch 7/20\n",
            "705/705 [==============================] - 130s 184ms/step - loss: 0.0114 - accuracy: 0.8997 - val_loss: 0.0154 - val_accuracy: 0.8677\n",
            "Epoch 8/20\n",
            "705/705 [==============================] - 130s 184ms/step - loss: 0.0106 - accuracy: 0.9058 - val_loss: 0.0153 - val_accuracy: 0.8688\n",
            "Epoch 9/20\n",
            "705/705 [==============================] - 130s 184ms/step - loss: 0.0098 - accuracy: 0.9134 - val_loss: 0.0154 - val_accuracy: 0.8691\n",
            "Epoch 10/20\n",
            "705/705 [==============================] - 130s 184ms/step - loss: 0.0091 - accuracy: 0.9175 - val_loss: 0.0157 - val_accuracy: 0.8723\n",
            "Epoch 11/20\n",
            "705/705 [==============================] - 143s 203ms/step - loss: 0.0085 - accuracy: 0.9249 - val_loss: 0.0168 - val_accuracy: 0.8685\n",
            "Epoch 12/20\n",
            "705/705 [==============================] - 155s 220ms/step - loss: 0.0078 - accuracy: 0.9298 - val_loss: 0.0172 - val_accuracy: 0.8710\n",
            "Epoch 13/20\n",
            "705/705 [==============================] - 156s 222ms/step - loss: 0.0070 - accuracy: 0.9359 - val_loss: 0.0187 - val_accuracy: 0.8625\n",
            "Epoch 14/20\n",
            "705/705 [==============================] - 169s 240ms/step - loss: 0.0064 - accuracy: 0.9433 - val_loss: 0.0190 - val_accuracy: 0.8664\n",
            "Epoch 15/20\n",
            "705/705 [==============================] - 160s 227ms/step - loss: 0.0059 - accuracy: 0.9488 - val_loss: 0.0203 - val_accuracy: 0.8615\n",
            "Epoch 16/20\n",
            "705/705 [==============================] - 157s 223ms/step - loss: 0.0055 - accuracy: 0.9517 - val_loss: 0.0216 - val_accuracy: 0.8629\n",
            "Epoch 17/20\n",
            "705/705 [==============================] - 134s 191ms/step - loss: 0.0050 - accuracy: 0.9564 - val_loss: 0.0238 - val_accuracy: 0.8598\n",
            "Epoch 18/20\n",
            "705/705 [==============================] - 137s 194ms/step - loss: 0.0048 - accuracy: 0.9579 - val_loss: 0.0241 - val_accuracy: 0.8594\n",
            "Epoch 19/20\n",
            "705/705 [==============================] - 141s 199ms/step - loss: 0.0044 - accuracy: 0.9629 - val_loss: 0.0254 - val_accuracy: 0.8590\n",
            "Epoch 20/20\n",
            "705/705 [==============================] - 143s 203ms/step - loss: 0.0041 - accuracy: 0.9646 - val_loss: 0.0263 - val_accuracy: 0.8588\n"
          ],
          "name": "stdout"
        }
      ]
    },
    {
      "cell_type": "code",
      "metadata": {
        "id": "szx2sku2LPQg",
        "outputId": "186907c9-3e65-4912-a14d-1aaef97f2138"
      },
      "source": [
        "print(np.mean(train_result[0].history['accuracy']))\n",
        "print(np.mean(train_result[1].history['accuracy']))\n",
        "print(np.mean(train_result[2].history['accuracy']))"
      ],
      "execution_count": null,
      "outputs": [
        {
          "output_type": "stream",
          "text": [
            "0.8828280150890351\n",
            "0.8934857040643692\n",
            "0.9004792749881745\n"
          ],
          "name": "stdout"
        }
      ]
    },
    {
      "cell_type": "code",
      "metadata": {
        "id": "tINZyWtGLPQh"
      },
      "source": [
        "#Experiment 2 \n",
        "nets = 6\n",
        "model = [0] *nets\n",
        "for j in range(6):\n",
        "    model[j] = Sequential()\n",
        "    model[j].add(Conv2D(j*8+8,kernel_size=5,activation='relu',input_shape=(28,28,1)))\n",
        "    model[j].add(MaxPool2D())\n",
        "    model[j].add(Conv2D(j*16+16,kernel_size=5,activation='relu'))\n",
        "    model[j].add(MaxPool2D())\n",
        "    model[j].add(Flatten())\n",
        "    model[j].add(Dense(256, activation='relu'))\n",
        "    model[j].add(Dense(47, activation='sigmoid'))\n",
        "    model[j].compile(optimizer=\"adam\", loss=\"binary_crossentropy\", metrics=[\"accuracy\"])"
      ],
      "execution_count": null,
      "outputs": []
    },
    {
      "cell_type": "code",
      "metadata": {
        "id": "b-gMjM83LPQh",
        "outputId": "34676e10-d7d0-4909-b2b5-f691025ef74e"
      },
      "source": [
        "train_result = []\n",
        "for i in range (6):\n",
        "    train = model[i].fit(trainX, trainY,batch_size = 128, epochs = 20,\n",
        "                 validation_data=(validationX,validationY))\n",
        "    train_result.append(train)"
      ],
      "execution_count": null,
      "outputs": [
        {
          "output_type": "stream",
          "text": [
            "Epoch 1/20\n",
            "705/705 [==============================] - 27s 37ms/step - loss: 0.1280 - accuracy: 0.2251 - val_loss: 0.0354 - val_accuracy: 0.7156\n",
            "Epoch 2/20\n",
            "705/705 [==============================] - 25s 36ms/step - loss: 0.0313 - accuracy: 0.7469 - val_loss: 0.0263 - val_accuracy: 0.7797\n",
            "Epoch 3/20\n",
            "705/705 [==============================] - 26s 36ms/step - loss: 0.0238 - accuracy: 0.8055 - val_loss: 0.0224 - val_accuracy: 0.8147\n",
            "Epoch 4/20\n",
            "705/705 [==============================] - 25s 36ms/step - loss: 0.0208 - accuracy: 0.8290 - val_loss: 0.0211 - val_accuracy: 0.8272\n",
            "Epoch 5/20\n",
            "705/705 [==============================] - 26s 36ms/step - loss: 0.0192 - accuracy: 0.8393 - val_loss: 0.0202 - val_accuracy: 0.8294\n",
            "Epoch 6/20\n",
            "705/705 [==============================] - 26s 36ms/step - loss: 0.0179 - accuracy: 0.8469 - val_loss: 0.0197 - val_accuracy: 0.8342\n",
            "Epoch 7/20\n",
            "705/705 [==============================] - 26s 36ms/step - loss: 0.0172 - accuracy: 0.8534 - val_loss: 0.0196 - val_accuracy: 0.8330\n",
            "Epoch 8/20\n",
            "705/705 [==============================] - 26s 36ms/step - loss: 0.0162 - accuracy: 0.8618 - val_loss: 0.0187 - val_accuracy: 0.8447\n",
            "Epoch 9/20\n",
            "705/705 [==============================] - 26s 36ms/step - loss: 0.0156 - accuracy: 0.8680 - val_loss: 0.0187 - val_accuracy: 0.8437\n",
            "Epoch 10/20\n",
            "705/705 [==============================] - 26s 36ms/step - loss: 0.0149 - accuracy: 0.8723 - val_loss: 0.0185 - val_accuracy: 0.8439\n",
            "Epoch 11/20\n",
            "705/705 [==============================] - 26s 37ms/step - loss: 0.0145 - accuracy: 0.8750 - val_loss: 0.0178 - val_accuracy: 0.8499\n",
            "Epoch 12/20\n",
            "705/705 [==============================] - 26s 37ms/step - loss: 0.0141 - accuracy: 0.8783 - val_loss: 0.0179 - val_accuracy: 0.8514\n",
            "Epoch 13/20\n",
            "705/705 [==============================] - 26s 37ms/step - loss: 0.0137 - accuracy: 0.8826 - val_loss: 0.0178 - val_accuracy: 0.8538\n",
            "Epoch 14/20\n",
            "705/705 [==============================] - 26s 37ms/step - loss: 0.0133 - accuracy: 0.8835 - val_loss: 0.0179 - val_accuracy: 0.8500\n",
            "Epoch 15/20\n",
            "705/705 [==============================] - 26s 37ms/step - loss: 0.0130 - accuracy: 0.8877 - val_loss: 0.0180 - val_accuracy: 0.8509\n",
            "Epoch 16/20\n",
            "705/705 [==============================] - 26s 37ms/step - loss: 0.0125 - accuracy: 0.8912 - val_loss: 0.0179 - val_accuracy: 0.8530\n",
            "Epoch 17/20\n",
            "705/705 [==============================] - 26s 37ms/step - loss: 0.0122 - accuracy: 0.8960 - val_loss: 0.0182 - val_accuracy: 0.8506\n",
            "Epoch 18/20\n",
            "705/705 [==============================] - 26s 37ms/step - loss: 0.0120 - accuracy: 0.8962 - val_loss: 0.0180 - val_accuracy: 0.8541\n",
            "Epoch 19/20\n",
            "705/705 [==============================] - 26s 37ms/step - loss: 0.0117 - accuracy: 0.8978 - val_loss: 0.0181 - val_accuracy: 0.8557\n",
            "Epoch 20/20\n",
            "705/705 [==============================] - 26s 37ms/step - loss: 0.0114 - accuracy: 0.9003 - val_loss: 0.0183 - val_accuracy: 0.8539\n",
            "Epoch 1/20\n",
            "705/705 [==============================] - 40s 56ms/step - loss: 0.1092 - accuracy: 0.3242 - val_loss: 0.0283 - val_accuracy: 0.7685\n",
            "Epoch 2/20\n",
            "705/705 [==============================] - 39s 55ms/step - loss: 0.0253 - accuracy: 0.7945 - val_loss: 0.0222 - val_accuracy: 0.8181\n",
            "Epoch 3/20\n",
            "705/705 [==============================] - 39s 55ms/step - loss: 0.0204 - accuracy: 0.8288 - val_loss: 0.0205 - val_accuracy: 0.8278\n",
            "Epoch 4/20\n",
            "705/705 [==============================] - 39s 55ms/step - loss: 0.0178 - accuracy: 0.8509 - val_loss: 0.0186 - val_accuracy: 0.8445\n",
            "Epoch 5/20\n",
            "705/705 [==============================] - 39s 55ms/step - loss: 0.0166 - accuracy: 0.8568 - val_loss: 0.0181 - val_accuracy: 0.8444\n",
            "Epoch 6/20\n",
            "705/705 [==============================] - 39s 55ms/step - loss: 0.0152 - accuracy: 0.8674 - val_loss: 0.0174 - val_accuracy: 0.8517\n",
            "Epoch 7/20\n",
            "705/705 [==============================] - 39s 55ms/step - loss: 0.0145 - accuracy: 0.8738 - val_loss: 0.0172 - val_accuracy: 0.8519\n",
            "Epoch 8/20\n",
            "705/705 [==============================] - 39s 56ms/step - loss: 0.0138 - accuracy: 0.8810 - val_loss: 0.0168 - val_accuracy: 0.8577\n",
            "Epoch 9/20\n",
            "705/705 [==============================] - 39s 55ms/step - loss: 0.0130 - accuracy: 0.8848 - val_loss: 0.0165 - val_accuracy: 0.8601\n",
            "Epoch 10/20\n",
            "705/705 [==============================] - 39s 55ms/step - loss: 0.0125 - accuracy: 0.8903 - val_loss: 0.0170 - val_accuracy: 0.8578\n",
            "Epoch 11/20\n",
            "705/705 [==============================] - 39s 55ms/step - loss: 0.0118 - accuracy: 0.8953 - val_loss: 0.0168 - val_accuracy: 0.8582\n",
            "Epoch 12/20\n",
            "705/705 [==============================] - 39s 55ms/step - loss: 0.0115 - accuracy: 0.8983 - val_loss: 0.0170 - val_accuracy: 0.8602\n",
            "Epoch 13/20\n",
            "705/705 [==============================] - 39s 55ms/step - loss: 0.0112 - accuracy: 0.9015 - val_loss: 0.0172 - val_accuracy: 0.8586\n",
            "Epoch 14/20\n",
            "705/705 [==============================] - 39s 56ms/step - loss: 0.0106 - accuracy: 0.9066 - val_loss: 0.0171 - val_accuracy: 0.8616\n",
            "Epoch 15/20\n",
            "705/705 [==============================] - 39s 55ms/step - loss: 0.0102 - accuracy: 0.9100 - val_loss: 0.0174 - val_accuracy: 0.8600\n",
            "Epoch 16/20\n",
            "705/705 [==============================] - 39s 56ms/step - loss: 0.0097 - accuracy: 0.9154 - val_loss: 0.0179 - val_accuracy: 0.8589\n",
            "Epoch 17/20\n",
            "705/705 [==============================] - 39s 56ms/step - loss: 0.0094 - accuracy: 0.9184 - val_loss: 0.0182 - val_accuracy: 0.8558\n",
            "Epoch 18/20\n",
            "705/705 [==============================] - 40s 57ms/step - loss: 0.0088 - accuracy: 0.9226 - val_loss: 0.0189 - val_accuracy: 0.8524\n",
            "Epoch 19/20\n",
            "705/705 [==============================] - 39s 56ms/step - loss: 0.0086 - accuracy: 0.9235 - val_loss: 0.0199 - val_accuracy: 0.8531\n",
            "Epoch 20/20\n",
            "705/705 [==============================] - 39s 56ms/step - loss: 0.0082 - accuracy: 0.9288 - val_loss: 0.0195 - val_accuracy: 0.8571\n",
            "Epoch 1/20\n",
            "705/705 [==============================] - 53s 74ms/step - loss: 0.0924 - accuracy: 0.3781 - val_loss: 0.0268 - val_accuracy: 0.7805\n",
            "Epoch 2/20\n",
            "705/705 [==============================] - 54s 77ms/step - loss: 0.0243 - accuracy: 0.8019 - val_loss: 0.0213 - val_accuracy: 0.8238\n",
            "Epoch 3/20\n",
            "705/705 [==============================] - 59s 84ms/step - loss: 0.0194 - accuracy: 0.8384 - val_loss: 0.0196 - val_accuracy: 0.8320\n",
            "Epoch 4/20\n",
            "705/705 [==============================] - 58s 83ms/step - loss: 0.0174 - accuracy: 0.8534 - val_loss: 0.0181 - val_accuracy: 0.8471\n",
            "Epoch 5/20\n",
            "705/705 [==============================] - 59s 83ms/step - loss: 0.0158 - accuracy: 0.8618 - val_loss: 0.0171 - val_accuracy: 0.8548\n",
            "Epoch 6/20\n",
            "705/705 [==============================] - 58s 82ms/step - loss: 0.0147 - accuracy: 0.8716 - val_loss: 0.0167 - val_accuracy: 0.8588\n",
            "Epoch 7/20\n",
            "705/705 [==============================] - 57s 81ms/step - loss: 0.0139 - accuracy: 0.8790 - val_loss: 0.0166 - val_accuracy: 0.8580\n",
            "Epoch 8/20\n",
            "705/705 [==============================] - 57s 81ms/step - loss: 0.0130 - accuracy: 0.8865 - val_loss: 0.0163 - val_accuracy: 0.8616\n",
            "Epoch 9/20\n",
            "705/705 [==============================] - 55s 78ms/step - loss: 0.0122 - accuracy: 0.8929 - val_loss: 0.0161 - val_accuracy: 0.8635\n",
            "Epoch 10/20\n",
            "705/705 [==============================] - 50s 71ms/step - loss: 0.0116 - accuracy: 0.8991 - val_loss: 0.0165 - val_accuracy: 0.8621\n",
            "Epoch 11/20\n",
            "705/705 [==============================] - 49s 70ms/step - loss: 0.0109 - accuracy: 0.9044 - val_loss: 0.0165 - val_accuracy: 0.8625\n",
            "Epoch 12/20\n",
            "705/705 [==============================] - 52s 74ms/step - loss: 0.0104 - accuracy: 0.9085 - val_loss: 0.0168 - val_accuracy: 0.8628\n",
            "Epoch 13/20\n",
            "705/705 [==============================] - 54s 76ms/step - loss: 0.0100 - accuracy: 0.9114 - val_loss: 0.0170 - val_accuracy: 0.8615\n",
            "Epoch 14/20\n",
            "705/705 [==============================] - 48s 67ms/step - loss: 0.0094 - accuracy: 0.9171 - val_loss: 0.0176 - val_accuracy: 0.8608\n",
            "Epoch 15/20\n",
            "705/705 [==============================] - 55s 77ms/step - loss: 0.0090 - accuracy: 0.9199 - val_loss: 0.0177 - val_accuracy: 0.8608\n",
            "Epoch 16/20\n",
            "705/705 [==============================] - 58s 82ms/step - loss: 0.0085 - accuracy: 0.9274 - val_loss: 0.0181 - val_accuracy: 0.8602\n",
            "Epoch 17/20\n",
            "705/705 [==============================] - 55s 78ms/step - loss: 0.0081 - accuracy: 0.9305 - val_loss: 0.0192 - val_accuracy: 0.8598\n"
          ],
          "name": "stdout"
        },
        {
          "output_type": "stream",
          "text": [
            "Epoch 18/20\n",
            "705/705 [==============================] - 54s 76ms/step - loss: 0.0076 - accuracy: 0.9357 - val_loss: 0.0197 - val_accuracy: 0.8563\n",
            "Epoch 19/20\n",
            "705/705 [==============================] - 57s 81ms/step - loss: 0.0072 - accuracy: 0.9386 - val_loss: 0.0206 - val_accuracy: 0.8586\n",
            "Epoch 20/20\n",
            "705/705 [==============================] - 54s 77ms/step - loss: 0.0069 - accuracy: 0.9420 - val_loss: 0.0213 - val_accuracy: 0.8511\n",
            "Epoch 1/20\n",
            "705/705 [==============================] - 70s 98ms/step - loss: 0.0929 - accuracy: 0.3708 - val_loss: 0.0271 - val_accuracy: 0.7821\n",
            "Epoch 2/20\n",
            "705/705 [==============================] - 65s 92ms/step - loss: 0.0236 - accuracy: 0.8045 - val_loss: 0.0213 - val_accuracy: 0.8175\n",
            "Epoch 3/20\n",
            "705/705 [==============================] - 69s 98ms/step - loss: 0.0190 - accuracy: 0.8399 - val_loss: 0.0187 - val_accuracy: 0.8387\n",
            "Epoch 4/20\n",
            "705/705 [==============================] - 67s 95ms/step - loss: 0.0167 - accuracy: 0.8555 - val_loss: 0.0177 - val_accuracy: 0.8487\n",
            "Epoch 5/20\n",
            "705/705 [==============================] - 67s 96ms/step - loss: 0.0153 - accuracy: 0.8670 - val_loss: 0.0173 - val_accuracy: 0.8531\n",
            "Epoch 6/20\n",
            "705/705 [==============================] - 70s 100ms/step - loss: 0.0142 - accuracy: 0.8768 - val_loss: 0.0166 - val_accuracy: 0.8591\n",
            "Epoch 7/20\n",
            "705/705 [==============================] - 70s 100ms/step - loss: 0.0134 - accuracy: 0.8834 - val_loss: 0.0167 - val_accuracy: 0.8543\n",
            "Epoch 8/20\n",
            "705/705 [==============================] - 64s 90ms/step - loss: 0.0126 - accuracy: 0.8887 - val_loss: 0.0163 - val_accuracy: 0.8620\n",
            "Epoch 9/20\n",
            "705/705 [==============================] - 66s 94ms/step - loss: 0.0120 - accuracy: 0.8937 - val_loss: 0.0164 - val_accuracy: 0.8612\n",
            "Epoch 10/20\n",
            "705/705 [==============================] - 68s 97ms/step - loss: 0.0115 - accuracy: 0.8975 - val_loss: 0.0164 - val_accuracy: 0.8604\n",
            "Epoch 11/20\n",
            "705/705 [==============================] - 76s 108ms/step - loss: 0.0109 - accuracy: 0.9040 - val_loss: 0.0168 - val_accuracy: 0.8609\n",
            "Epoch 12/20\n",
            "705/705 [==============================] - 72s 102ms/step - loss: 0.0103 - accuracy: 0.9095 - val_loss: 0.0171 - val_accuracy: 0.8611\n",
            "Epoch 13/20\n",
            "705/705 [==============================] - 69s 98ms/step - loss: 0.0097 - accuracy: 0.9135 - val_loss: 0.0173 - val_accuracy: 0.8615\n",
            "Epoch 14/20\n",
            "705/705 [==============================] - 69s 98ms/step - loss: 0.0092 - accuracy: 0.9189 - val_loss: 0.0176 - val_accuracy: 0.8590\n",
            "Epoch 15/20\n",
            "705/705 [==============================] - 72s 102ms/step - loss: 0.0088 - accuracy: 0.9221 - val_loss: 0.0186 - val_accuracy: 0.8581\n",
            "Epoch 16/20\n",
            "705/705 [==============================] - 67s 95ms/step - loss: 0.0081 - accuracy: 0.9295 - val_loss: 0.0192 - val_accuracy: 0.8560\n",
            "Epoch 17/20\n",
            "705/705 [==============================] - 64s 90ms/step - loss: 0.0077 - accuracy: 0.9322 - val_loss: 0.0193 - val_accuracy: 0.8578\n",
            "Epoch 18/20\n",
            "705/705 [==============================] - 63s 90ms/step - loss: 0.0073 - accuracy: 0.9357 - val_loss: 0.0204 - val_accuracy: 0.8594\n",
            "Epoch 19/20\n",
            "705/705 [==============================] - 64s 90ms/step - loss: 0.0068 - accuracy: 0.9412 - val_loss: 0.0211 - val_accuracy: 0.8559\n",
            "Epoch 20/20\n",
            "705/705 [==============================] - 64s 91ms/step - loss: 0.0064 - accuracy: 0.9453 - val_loss: 0.0224 - val_accuracy: 0.8532\n",
            "Epoch 1/20\n",
            "705/705 [==============================] - 80s 113ms/step - loss: 0.0867 - accuracy: 0.4145 - val_loss: 0.0243 - val_accuracy: 0.8013\n",
            "Epoch 2/20\n",
            "705/705 [==============================] - 80s 113ms/step - loss: 0.0217 - accuracy: 0.8220 - val_loss: 0.0199 - val_accuracy: 0.8289\n",
            "Epoch 3/20\n",
            "705/705 [==============================] - 80s 113ms/step - loss: 0.0176 - accuracy: 0.8518 - val_loss: 0.0178 - val_accuracy: 0.8473\n",
            "Epoch 4/20\n",
            "705/705 [==============================] - 81s 115ms/step - loss: 0.0154 - accuracy: 0.8669 - val_loss: 0.0166 - val_accuracy: 0.8592\n",
            "Epoch 5/20\n",
            "705/705 [==============================] - 83s 118ms/step - loss: 0.0140 - accuracy: 0.8783 - val_loss: 0.0165 - val_accuracy: 0.8602\n",
            "Epoch 6/20\n",
            "705/705 [==============================] - 82s 117ms/step - loss: 0.0129 - accuracy: 0.8874 - val_loss: 0.0160 - val_accuracy: 0.8621\n",
            "Epoch 7/20\n",
            "705/705 [==============================] - 82s 117ms/step - loss: 0.0122 - accuracy: 0.8930 - val_loss: 0.0162 - val_accuracy: 0.8620\n",
            "Epoch 8/20\n",
            "705/705 [==============================] - 89s 127ms/step - loss: 0.0114 - accuracy: 0.8988 - val_loss: 0.0161 - val_accuracy: 0.8646\n",
            "Epoch 9/20\n",
            "705/705 [==============================] - 94s 134ms/step - loss: 0.0106 - accuracy: 0.9062 - val_loss: 0.0162 - val_accuracy: 0.8657\n",
            "Epoch 10/20\n",
            "705/705 [==============================] - 85s 121ms/step - loss: 0.0101 - accuracy: 0.9099 - val_loss: 0.0169 - val_accuracy: 0.8630\n",
            "Epoch 11/20\n",
            "705/705 [==============================] - 80s 114ms/step - loss: 0.0093 - accuracy: 0.9178 - val_loss: 0.0167 - val_accuracy: 0.8663\n",
            "Epoch 12/20\n",
            "705/705 [==============================] - 80s 114ms/step - loss: 0.0087 - accuracy: 0.9229 - val_loss: 0.0178 - val_accuracy: 0.8609\n",
            "Epoch 13/20\n",
            "705/705 [==============================] - 80s 113ms/step - loss: 0.0081 - accuracy: 0.9283 - val_loss: 0.0183 - val_accuracy: 0.8627\n",
            "Epoch 14/20\n",
            "705/705 [==============================] - 80s 114ms/step - loss: 0.0075 - accuracy: 0.9350 - val_loss: 0.0189 - val_accuracy: 0.8619\n",
            "Epoch 15/20\n",
            "705/705 [==============================] - 80s 114ms/step - loss: 0.0070 - accuracy: 0.9387 - val_loss: 0.0207 - val_accuracy: 0.8596\n",
            "Epoch 16/20\n",
            "705/705 [==============================] - 80s 113ms/step - loss: 0.0064 - accuracy: 0.9437 - val_loss: 0.0214 - val_accuracy: 0.8555\n",
            "Epoch 17/20\n",
            "705/705 [==============================] - 80s 114ms/step - loss: 0.0060 - accuracy: 0.9484 - val_loss: 0.0214 - val_accuracy: 0.8567\n",
            "Epoch 18/20\n",
            "705/705 [==============================] - 79s 113ms/step - loss: 0.0055 - accuracy: 0.9525 - val_loss: 0.0231 - val_accuracy: 0.8573\n",
            "Epoch 19/20\n",
            "705/705 [==============================] - 80s 114ms/step - loss: 0.0052 - accuracy: 0.9566 - val_loss: 0.0246 - val_accuracy: 0.8574\n",
            "Epoch 20/20\n",
            "705/705 [==============================] - 80s 114ms/step - loss: 0.0048 - accuracy: 0.9586 - val_loss: 0.0263 - val_accuracy: 0.8536\n",
            "Epoch 1/20\n",
            "705/705 [==============================] - 98s 138ms/step - loss: 0.0859 - accuracy: 0.4116 - val_loss: 0.0244 - val_accuracy: 0.8020\n",
            "Epoch 2/20\n",
            "705/705 [==============================] - 97s 138ms/step - loss: 0.0224 - accuracy: 0.8149 - val_loss: 0.0197 - val_accuracy: 0.8359\n",
            "Epoch 3/20\n",
            "705/705 [==============================] - 97s 138ms/step - loss: 0.0178 - accuracy: 0.8495 - val_loss: 0.0181 - val_accuracy: 0.8449\n",
            "Epoch 4/20\n",
            "705/705 [==============================] - 98s 139ms/step - loss: 0.0154 - accuracy: 0.8666 - val_loss: 0.0169 - val_accuracy: 0.8558\n",
            "Epoch 5/20\n",
            "705/705 [==============================] - 98s 138ms/step - loss: 0.0141 - accuracy: 0.8767 - val_loss: 0.0165 - val_accuracy: 0.8570\n",
            "Epoch 6/20\n",
            "705/705 [==============================] - 97s 138ms/step - loss: 0.0131 - accuracy: 0.8839 - val_loss: 0.0160 - val_accuracy: 0.8646\n",
            "Epoch 7/20\n",
            "705/705 [==============================] - 101s 144ms/step - loss: 0.0122 - accuracy: 0.8935 - val_loss: 0.0160 - val_accuracy: 0.8645\n",
            "Epoch 8/20\n",
            "705/705 [==============================] - 97s 138ms/step - loss: 0.0114 - accuracy: 0.8999 - val_loss: 0.0157 - val_accuracy: 0.8672\n",
            "Epoch 9/20\n",
            "705/705 [==============================] - 97s 138ms/step - loss: 0.0107 - accuracy: 0.9076 - val_loss: 0.0161 - val_accuracy: 0.8665\n",
            "Epoch 10/20\n",
            "705/705 [==============================] - 97s 138ms/step - loss: 0.0101 - accuracy: 0.9091 - val_loss: 0.0167 - val_accuracy: 0.8626\n",
            "Epoch 11/20\n",
            "705/705 [==============================] - 98s 138ms/step - loss: 0.0094 - accuracy: 0.9172 - val_loss: 0.0168 - val_accuracy: 0.8647\n",
            "Epoch 12/20\n",
            "705/705 [==============================] - 97s 138ms/step - loss: 0.0087 - accuracy: 0.9216 - val_loss: 0.0176 - val_accuracy: 0.8642\n",
            "Epoch 13/20\n",
            "705/705 [==============================] - 97s 138ms/step - loss: 0.0081 - accuracy: 0.9276 - val_loss: 0.0184 - val_accuracy: 0.8622\n",
            "Epoch 14/20\n",
            "705/705 [==============================] - 95s 135ms/step - loss: 0.0074 - accuracy: 0.9350 - val_loss: 0.0191 - val_accuracy: 0.8589\n",
            "Epoch 15/20\n",
            "705/705 [==============================] - 98s 139ms/step - loss: 0.0069 - accuracy: 0.9395 - val_loss: 0.0196 - val_accuracy: 0.8632\n",
            "Epoch 16/20\n",
            "705/705 [==============================] - 96s 136ms/step - loss: 0.0064 - accuracy: 0.9443 - val_loss: 0.0211 - val_accuracy: 0.8596\n",
            "Epoch 17/20\n",
            "705/705 [==============================] - 95s 135ms/step - loss: 0.0058 - accuracy: 0.9503 - val_loss: 0.0221 - val_accuracy: 0.8547\n",
            "Epoch 18/20\n",
            "705/705 [==============================] - 95s 135ms/step - loss: 0.0054 - accuracy: 0.9550 - val_loss: 0.0236 - val_accuracy: 0.8561\n",
            "Epoch 19/20\n",
            "705/705 [==============================] - 96s 136ms/step - loss: 0.0050 - accuracy: 0.9587 - val_loss: 0.0251 - val_accuracy: 0.8566\n",
            "Epoch 20/20\n",
            "705/705 [==============================] - 96s 136ms/step - loss: 0.0047 - accuracy: 0.9603 - val_loss: 0.0269 - val_accuracy: 0.8539\n"
          ],
          "name": "stdout"
        }
      ]
    },
    {
      "cell_type": "code",
      "metadata": {
        "id": "NAfx4MwvLPQi",
        "outputId": "99677bfc-f4f8-42b7-e20a-4b69f7154189"
      },
      "source": [
        "print(np.mean(train_result[0].history['accuracy']))\n",
        "print(np.mean(train_result[1].history['accuracy']))\n",
        "print(np.mean(train_result[2].history['accuracy']))\n",
        "print(np.mean(train_result[3].history['accuracy']))\n",
        "print(np.mean(train_result[4].history['accuracy']))\n",
        "print(np.mean(train_result[5].history['accuracy']))"
      ],
      "execution_count": null,
      "outputs": [
        {
          "output_type": "stream",
          "text": [
            "0.8432651773095131\n",
            "0.8691278785467148\n",
            "0.8798409789800644\n",
            "0.8815209448337555\n",
            "0.8951562494039536\n",
            "0.8958732336759567\n"
          ],
          "name": "stdout"
        }
      ]
    },
    {
      "cell_type": "code",
      "metadata": {
        "id": "pOPdAdtpLPQi"
      },
      "source": [
        "#Experiment 3 \n",
        "nets = 8\n",
        "model = [0] *nets\n",
        "\n",
        "for j in range(8):\n",
        "    model[j] = Sequential()\n",
        "    model[j].add(Conv2D(24,kernel_size=5,activation='relu',input_shape=(28,28,1)))\n",
        "    model[j].add(MaxPool2D())\n",
        "    model[j].add(Conv2D(48,kernel_size=5,activation='relu'))\n",
        "    model[j].add(MaxPool2D())\n",
        "    model[j].add(Flatten())\n",
        "    if j>0:\n",
        "        model[j].add(Dense(2**(j+4), activation='relu'))\n",
        "    model[j].add(Dense(47, activation='sigmoid'))\n",
        "    model[j].compile(optimizer=\"adam\", loss=\"binary_crossentropy\", metrics=[\"accuracy\"])"
      ],
      "execution_count": null,
      "outputs": []
    },
    {
      "cell_type": "code",
      "metadata": {
        "id": "75blV6_ILPQk",
        "outputId": "f9e50a58-4e5c-41f2-9e83-eed4ec722fa2"
      },
      "source": [
        "train_result = []\n",
        "for i in range (8):\n",
        "    train = model[i].fit(trainX, trainY,batch_size = 128, epochs = 20,\n",
        "                 validation_data=(validationX,validationY))\n",
        "    train_result.append(train)"
      ],
      "execution_count": null,
      "outputs": [
        {
          "output_type": "stream",
          "text": [
            "Epoch 1/20\n",
            "705/705 [==============================] - 52s 73ms/step - loss: 0.0982 - accuracy: 0.3448 - val_loss: 0.0302 - val_accuracy: 0.7664\n",
            "Epoch 2/20\n",
            "705/705 [==============================] - 57s 81ms/step - loss: 0.0278 - accuracy: 0.7847 - val_loss: 0.0248 - val_accuracy: 0.8074\n",
            "Epoch 3/20\n",
            "705/705 [==============================] - 62s 88ms/step - loss: 0.0231 - accuracy: 0.8210 - val_loss: 0.0224 - val_accuracy: 0.8255\n",
            "Epoch 4/20\n",
            "705/705 [==============================] - 57s 80ms/step - loss: 0.0208 - accuracy: 0.8353 - val_loss: 0.0212 - val_accuracy: 0.8318\n",
            "Epoch 5/20\n",
            "705/705 [==============================] - 53s 75ms/step - loss: 0.0195 - accuracy: 0.8455 - val_loss: 0.0204 - val_accuracy: 0.8399\n",
            "Epoch 6/20\n",
            "705/705 [==============================] - 56s 79ms/step - loss: 0.0183 - accuracy: 0.8537 - val_loss: 0.0198 - val_accuracy: 0.8431\n",
            "Epoch 7/20\n",
            "705/705 [==============================] - 53s 75ms/step - loss: 0.0174 - accuracy: 0.8612 - val_loss: 0.0190 - val_accuracy: 0.8480\n",
            "Epoch 8/20\n",
            "705/705 [==============================] - 53s 75ms/step - loss: 0.0167 - accuracy: 0.8657 - val_loss: 0.0186 - val_accuracy: 0.8502\n",
            "Epoch 9/20\n",
            "705/705 [==============================] - 55s 78ms/step - loss: 0.0160 - accuracy: 0.8727 - val_loss: 0.0187 - val_accuracy: 0.8518\n",
            "Epoch 10/20\n",
            "705/705 [==============================] - 55s 78ms/step - loss: 0.0157 - accuracy: 0.8743 - val_loss: 0.0185 - val_accuracy: 0.8516\n",
            "Epoch 11/20\n",
            "705/705 [==============================] - 55s 78ms/step - loss: 0.0151 - accuracy: 0.8783 - val_loss: 0.0186 - val_accuracy: 0.8516\n",
            "Epoch 12/20\n",
            "705/705 [==============================] - 55s 79ms/step - loss: 0.0147 - accuracy: 0.8825 - val_loss: 0.0186 - val_accuracy: 0.8526\n",
            "Epoch 13/20\n",
            "705/705 [==============================] - 60s 84ms/step - loss: 0.0145 - accuracy: 0.8828 - val_loss: 0.0180 - val_accuracy: 0.8539\n",
            "Epoch 14/20\n",
            "705/705 [==============================] - 55s 78ms/step - loss: 0.0143 - accuracy: 0.8858 - val_loss: 0.0181 - val_accuracy: 0.8570\n",
            "Epoch 15/20\n",
            "705/705 [==============================] - 54s 77ms/step - loss: 0.0138 - accuracy: 0.8889 - val_loss: 0.0183 - val_accuracy: 0.8595\n",
            "Epoch 16/20\n",
            "705/705 [==============================] - 58s 82ms/step - loss: 0.0134 - accuracy: 0.8927 - val_loss: 0.0184 - val_accuracy: 0.8583\n",
            "Epoch 17/20\n",
            "705/705 [==============================] - 64s 90ms/step - loss: 0.0130 - accuracy: 0.8961 - val_loss: 0.0186 - val_accuracy: 0.8522\n",
            "Epoch 18/20\n",
            "705/705 [==============================] - 52s 74ms/step - loss: 0.0130 - accuracy: 0.8963 - val_loss: 0.0185 - val_accuracy: 0.8529\n",
            "Epoch 19/20\n",
            "705/705 [==============================] - 55s 78ms/step - loss: 0.0127 - accuracy: 0.8984 - val_loss: 0.0185 - val_accuracy: 0.8580\n",
            "Epoch 20/20\n",
            "705/705 [==============================] - 57s 81ms/step - loss: 0.0123 - accuracy: 0.9028 - val_loss: 0.0189 - val_accuracy: 0.8549\n",
            "Epoch 1/20\n",
            "705/705 [==============================] - 58s 81ms/step - loss: 0.1589 - accuracy: 0.2144 - val_loss: 0.0445 - val_accuracy: 0.6495\n",
            "Epoch 2/20\n",
            "705/705 [==============================] - 57s 81ms/step - loss: 0.0404 - accuracy: 0.6897 - val_loss: 0.0343 - val_accuracy: 0.7360\n",
            "Epoch 3/20\n",
            "705/705 [==============================] - 53s 76ms/step - loss: 0.0324 - accuracy: 0.7515 - val_loss: 0.0301 - val_accuracy: 0.7728\n",
            "Epoch 4/20\n",
            "705/705 [==============================] - 54s 76ms/step - loss: 0.0280 - accuracy: 0.7877 - val_loss: 0.0269 - val_accuracy: 0.7919\n",
            "Epoch 5/20\n",
            "705/705 [==============================] - 53s 76ms/step - loss: 0.0259 - accuracy: 0.7996 - val_loss: 0.0257 - val_accuracy: 0.8040\n",
            "Epoch 6/20\n",
            "705/705 [==============================] - 53s 76ms/step - loss: 0.0242 - accuracy: 0.8119 - val_loss: 0.0242 - val_accuracy: 0.8112\n",
            "Epoch 7/20\n",
            "705/705 [==============================] - 54s 77ms/step - loss: 0.0229 - accuracy: 0.8211 - val_loss: 0.0234 - val_accuracy: 0.8112\n",
            "Epoch 8/20\n",
            "705/705 [==============================] - 53s 76ms/step - loss: 0.0220 - accuracy: 0.8266 - val_loss: 0.0228 - val_accuracy: 0.8207\n",
            "Epoch 9/20\n",
            "705/705 [==============================] - 56s 80ms/step - loss: 0.0214 - accuracy: 0.8329 - val_loss: 0.0227 - val_accuracy: 0.8244\n",
            "Epoch 10/20\n",
            "705/705 [==============================] - 61s 87ms/step - loss: 0.0205 - accuracy: 0.8394 - val_loss: 0.0220 - val_accuracy: 0.8273\n",
            "Epoch 11/20\n",
            "705/705 [==============================] - 55s 78ms/step - loss: 0.0203 - accuracy: 0.8410 - val_loss: 0.0219 - val_accuracy: 0.8311\n",
            "Epoch 12/20\n",
            "705/705 [==============================] - 54s 77ms/step - loss: 0.0200 - accuracy: 0.8414 - val_loss: 0.0215 - val_accuracy: 0.8314\n",
            "Epoch 13/20\n",
            "705/705 [==============================] - 54s 76ms/step - loss: 0.0194 - accuracy: 0.8458 - val_loss: 0.0213 - val_accuracy: 0.8337\n",
            "Epoch 14/20\n",
            "705/705 [==============================] - 53s 76ms/step - loss: 0.0189 - accuracy: 0.8507 - val_loss: 0.0210 - val_accuracy: 0.8332\n",
            "Epoch 15/20\n",
            "705/705 [==============================] - 54s 76ms/step - loss: 0.0188 - accuracy: 0.8517 - val_loss: 0.0208 - val_accuracy: 0.8329\n",
            "Epoch 16/20\n",
            "705/705 [==============================] - 55s 77ms/step - loss: 0.0184 - accuracy: 0.8527 - val_loss: 0.0203 - val_accuracy: 0.8400\n",
            "Epoch 17/20\n",
            "705/705 [==============================] - 54s 76ms/step - loss: 0.0180 - accuracy: 0.8554 - val_loss: 0.0203 - val_accuracy: 0.8402\n",
            "Epoch 18/20\n",
            "705/705 [==============================] - 54s 76ms/step - loss: 0.0179 - accuracy: 0.8582 - val_loss: 0.0209 - val_accuracy: 0.8375\n",
            "Epoch 19/20\n",
            "705/705 [==============================] - 54s 76ms/step - loss: 0.0177 - accuracy: 0.8594 - val_loss: 0.0203 - val_accuracy: 0.8398\n",
            "Epoch 20/20\n",
            "705/705 [==============================] - 54s 77ms/step - loss: 0.0173 - accuracy: 0.8610 - val_loss: 0.0202 - val_accuracy: 0.8394\n",
            "Epoch 1/20\n",
            "705/705 [==============================] - 54s 76ms/step - loss: 0.1214 - accuracy: 0.2061 - val_loss: 0.0417 - val_accuracy: 0.6547\n",
            "Epoch 2/20\n",
            "705/705 [==============================] - 54s 76ms/step - loss: 0.0371 - accuracy: 0.7036 - val_loss: 0.0301 - val_accuracy: 0.7667\n",
            "Epoch 3/20\n",
            "705/705 [==============================] - 53s 76ms/step - loss: 0.0282 - accuracy: 0.7773 - val_loss: 0.0260 - val_accuracy: 0.7949\n",
            "Epoch 4/20\n",
            "705/705 [==============================] - 53s 75ms/step - loss: 0.0245 - accuracy: 0.8049 - val_loss: 0.0234 - val_accuracy: 0.8167\n",
            "Epoch 5/20\n",
            "705/705 [==============================] - 53s 75ms/step - loss: 0.0221 - accuracy: 0.8223 - val_loss: 0.0223 - val_accuracy: 0.8195\n",
            "Epoch 6/20\n",
            "705/705 [==============================] - 53s 75ms/step - loss: 0.0205 - accuracy: 0.8337 - val_loss: 0.0212 - val_accuracy: 0.8279\n",
            "Epoch 7/20\n",
            "705/705 [==============================] - 53s 75ms/step - loss: 0.0196 - accuracy: 0.8409 - val_loss: 0.0203 - val_accuracy: 0.8367\n",
            "Epoch 8/20\n",
            "705/705 [==============================] - 54s 76ms/step - loss: 0.0187 - accuracy: 0.8489 - val_loss: 0.0200 - val_accuracy: 0.8394\n",
            "Epoch 9/20\n",
            "705/705 [==============================] - 53s 75ms/step - loss: 0.0181 - accuracy: 0.8505 - val_loss: 0.0195 - val_accuracy: 0.8402\n",
            "Epoch 10/20\n",
            "705/705 [==============================] - 54s 76ms/step - loss: 0.0172 - accuracy: 0.8570 - val_loss: 0.0198 - val_accuracy: 0.8355\n",
            "Epoch 11/20\n",
            "705/705 [==============================] - 53s 76ms/step - loss: 0.0167 - accuracy: 0.8639 - val_loss: 0.0189 - val_accuracy: 0.8453\n",
            "Epoch 12/20\n",
            "705/705 [==============================] - 53s 76ms/step - loss: 0.0163 - accuracy: 0.8641 - val_loss: 0.0186 - val_accuracy: 0.8491\n",
            "Epoch 13/20\n",
            "705/705 [==============================] - 53s 76ms/step - loss: 0.0157 - accuracy: 0.8687 - val_loss: 0.0185 - val_accuracy: 0.8489\n",
            "Epoch 14/20\n",
            "705/705 [==============================] - 54s 76ms/step - loss: 0.0153 - accuracy: 0.8716 - val_loss: 0.0184 - val_accuracy: 0.8498\n",
            "Epoch 15/20\n",
            "705/705 [==============================] - 54s 76ms/step - loss: 0.0151 - accuracy: 0.8741 - val_loss: 0.0181 - val_accuracy: 0.8513\n",
            "Epoch 16/20\n",
            "705/705 [==============================] - 58s 82ms/step - loss: 0.0148 - accuracy: 0.8774 - val_loss: 0.0179 - val_accuracy: 0.8510\n",
            "Epoch 17/20\n",
            "705/705 [==============================] - 53s 76ms/step - loss: 0.0143 - accuracy: 0.8788 - val_loss: 0.0178 - val_accuracy: 0.8534\n"
          ],
          "name": "stdout"
        },
        {
          "output_type": "stream",
          "text": [
            "Epoch 18/20\n",
            "705/705 [==============================] - 50s 71ms/step - loss: 0.0141 - accuracy: 0.8809 - val_loss: 0.0177 - val_accuracy: 0.8544\n",
            "Epoch 19/20\n",
            "705/705 [==============================] - 50s 72ms/step - loss: 0.0139 - accuracy: 0.8830 - val_loss: 0.0176 - val_accuracy: 0.8552\n",
            "Epoch 20/20\n",
            "705/705 [==============================] - 52s 73ms/step - loss: 0.0136 - accuracy: 0.8851 - val_loss: 0.0178 - val_accuracy: 0.8566\n",
            "Epoch 1/20\n",
            "705/705 [==============================] - 52s 73ms/step - loss: 0.1077 - accuracy: 0.3202 - val_loss: 0.0311 - val_accuracy: 0.7531\n",
            "Epoch 2/20\n",
            "705/705 [==============================] - 51s 73ms/step - loss: 0.0277 - accuracy: 0.7773 - val_loss: 0.0235 - val_accuracy: 0.8070\n",
            "Epoch 3/20\n",
            "705/705 [==============================] - 51s 72ms/step - loss: 0.0216 - accuracy: 0.8238 - val_loss: 0.0209 - val_accuracy: 0.8246\n",
            "Epoch 4/20\n",
            "705/705 [==============================] - 52s 74ms/step - loss: 0.0193 - accuracy: 0.8397 - val_loss: 0.0198 - val_accuracy: 0.8349\n",
            "Epoch 5/20\n",
            "705/705 [==============================] - 51s 73ms/step - loss: 0.0177 - accuracy: 0.8512 - val_loss: 0.0188 - val_accuracy: 0.8445\n",
            "Epoch 6/20\n",
            "705/705 [==============================] - 51s 73ms/step - loss: 0.0165 - accuracy: 0.8612 - val_loss: 0.0183 - val_accuracy: 0.8468\n",
            "Epoch 7/20\n",
            "705/705 [==============================] - 51s 73ms/step - loss: 0.0159 - accuracy: 0.8646 - val_loss: 0.0176 - val_accuracy: 0.8514\n",
            "Epoch 8/20\n",
            "705/705 [==============================] - 51s 73ms/step - loss: 0.0148 - accuracy: 0.8722 - val_loss: 0.0176 - val_accuracy: 0.8511\n",
            "Epoch 9/20\n",
            "705/705 [==============================] - 51s 73ms/step - loss: 0.0144 - accuracy: 0.8774 - val_loss: 0.0171 - val_accuracy: 0.8578\n",
            "Epoch 10/20\n",
            "705/705 [==============================] - 51s 73ms/step - loss: 0.0139 - accuracy: 0.8809 - val_loss: 0.0170 - val_accuracy: 0.8578\n",
            "Epoch 11/20\n",
            "705/705 [==============================] - 52s 73ms/step - loss: 0.0132 - accuracy: 0.8857 - val_loss: 0.0172 - val_accuracy: 0.8585\n",
            "Epoch 12/20\n",
            "705/705 [==============================] - 52s 73ms/step - loss: 0.0127 - accuracy: 0.8906 - val_loss: 0.0171 - val_accuracy: 0.8578\n",
            "Epoch 13/20\n",
            "705/705 [==============================] - 52s 74ms/step - loss: 0.0125 - accuracy: 0.8914 - val_loss: 0.0167 - val_accuracy: 0.8591\n",
            "Epoch 14/20\n",
            "705/705 [==============================] - 52s 74ms/step - loss: 0.0121 - accuracy: 0.8960 - val_loss: 0.0172 - val_accuracy: 0.8586\n",
            "Epoch 15/20\n",
            "705/705 [==============================] - 51s 73ms/step - loss: 0.0117 - accuracy: 0.8979 - val_loss: 0.0171 - val_accuracy: 0.8590\n",
            "Epoch 16/20\n",
            "705/705 [==============================] - 52s 73ms/step - loss: 0.0115 - accuracy: 0.8991 - val_loss: 0.0170 - val_accuracy: 0.8617\n",
            "Epoch 17/20\n",
            "705/705 [==============================] - 51s 73ms/step - loss: 0.0111 - accuracy: 0.9028 - val_loss: 0.0174 - val_accuracy: 0.8583\n",
            "Epoch 18/20\n",
            "705/705 [==============================] - 52s 73ms/step - loss: 0.0108 - accuracy: 0.9064 - val_loss: 0.0177 - val_accuracy: 0.8588\n",
            "Epoch 19/20\n",
            "705/705 [==============================] - 52s 74ms/step - loss: 0.0106 - accuracy: 0.9076 - val_loss: 0.0179 - val_accuracy: 0.8548\n",
            "Epoch 20/20\n",
            "705/705 [==============================] - 52s 73ms/step - loss: 0.0101 - accuracy: 0.9127 - val_loss: 0.0181 - val_accuracy: 0.8578\n",
            "Epoch 1/20\n",
            "705/705 [==============================] - 53s 75ms/step - loss: 0.0926 - accuracy: 0.3813 - val_loss: 0.0281 - val_accuracy: 0.7719\n",
            "Epoch 2/20\n",
            "705/705 [==============================] - 53s 75ms/step - loss: 0.0253 - accuracy: 0.7947 - val_loss: 0.0222 - val_accuracy: 0.8192\n",
            "Epoch 3/20\n",
            "705/705 [==============================] - 53s 75ms/step - loss: 0.0202 - accuracy: 0.8311 - val_loss: 0.0200 - val_accuracy: 0.8301\n",
            "Epoch 4/20\n",
            "705/705 [==============================] - 53s 74ms/step - loss: 0.0175 - accuracy: 0.8506 - val_loss: 0.0187 - val_accuracy: 0.8445\n",
            "Epoch 5/20\n",
            "705/705 [==============================] - 53s 75ms/step - loss: 0.0160 - accuracy: 0.8635 - val_loss: 0.0174 - val_accuracy: 0.8522\n",
            "Epoch 6/20\n",
            "705/705 [==============================] - 53s 74ms/step - loss: 0.0152 - accuracy: 0.8679 - val_loss: 0.0172 - val_accuracy: 0.8546\n",
            "Epoch 7/20\n",
            "705/705 [==============================] - 53s 75ms/step - loss: 0.0138 - accuracy: 0.8824 - val_loss: 0.0168 - val_accuracy: 0.8542\n",
            "Epoch 8/20\n",
            "705/705 [==============================] - 53s 74ms/step - loss: 0.0132 - accuracy: 0.8851 - val_loss: 0.0165 - val_accuracy: 0.8592\n",
            "Epoch 9/20\n",
            "705/705 [==============================] - 53s 75ms/step - loss: 0.0123 - accuracy: 0.8925 - val_loss: 0.0170 - val_accuracy: 0.8553\n",
            "Epoch 10/20\n",
            "705/705 [==============================] - 53s 75ms/step - loss: 0.0118 - accuracy: 0.8950 - val_loss: 0.0167 - val_accuracy: 0.8604\n",
            "Epoch 11/20\n",
            "705/705 [==============================] - 53s 75ms/step - loss: 0.0112 - accuracy: 0.9013 - val_loss: 0.0169 - val_accuracy: 0.8587\n",
            "Epoch 12/20\n",
            "705/705 [==============================] - 53s 75ms/step - loss: 0.0106 - accuracy: 0.9070 - val_loss: 0.0170 - val_accuracy: 0.8568\n",
            "Epoch 13/20\n",
            "705/705 [==============================] - 53s 75ms/step - loss: 0.0101 - accuracy: 0.9098 - val_loss: 0.0174 - val_accuracy: 0.8594\n",
            "Epoch 14/20\n",
            "705/705 [==============================] - 53s 75ms/step - loss: 0.0093 - accuracy: 0.9173 - val_loss: 0.0175 - val_accuracy: 0.8617\n",
            "Epoch 15/20\n",
            "705/705 [==============================] - 53s 75ms/step - loss: 0.0091 - accuracy: 0.9190 - val_loss: 0.0187 - val_accuracy: 0.8595\n",
            "Epoch 16/20\n",
            "705/705 [==============================] - 53s 75ms/step - loss: 0.0086 - accuracy: 0.9258 - val_loss: 0.0185 - val_accuracy: 0.8570\n",
            "Epoch 17/20\n",
            "705/705 [==============================] - 53s 75ms/step - loss: 0.0079 - accuracy: 0.9311 - val_loss: 0.0196 - val_accuracy: 0.8555\n",
            "Epoch 18/20\n",
            "705/705 [==============================] - 53s 75ms/step - loss: 0.0076 - accuracy: 0.9334 - val_loss: 0.0202 - val_accuracy: 0.8569\n",
            "Epoch 19/20\n",
            "705/705 [==============================] - 53s 75ms/step - loss: 0.0073 - accuracy: 0.9361 - val_loss: 0.0209 - val_accuracy: 0.8527\n",
            "Epoch 20/20\n",
            "705/705 [==============================] - 53s 75ms/step - loss: 0.0068 - accuracy: 0.9409 - val_loss: 0.0218 - val_accuracy: 0.8506\n",
            "Epoch 1/20\n",
            "705/705 [==============================] - 57s 79ms/step - loss: 0.0924 - accuracy: 0.3673 - val_loss: 0.0252 - val_accuracy: 0.7931\n",
            "Epoch 2/20\n",
            "705/705 [==============================] - 56s 79ms/step - loss: 0.0224 - accuracy: 0.8117 - val_loss: 0.0196 - val_accuracy: 0.8332\n",
            "Epoch 3/20\n",
            "705/705 [==============================] - 56s 80ms/step - loss: 0.0180 - accuracy: 0.8458 - val_loss: 0.0182 - val_accuracy: 0.8455\n",
            "Epoch 4/20\n",
            "705/705 [==============================] - 56s 80ms/step - loss: 0.0158 - accuracy: 0.8636 - val_loss: 0.0169 - val_accuracy: 0.8553\n",
            "Epoch 5/20\n",
            "705/705 [==============================] - 56s 80ms/step - loss: 0.0146 - accuracy: 0.8724 - val_loss: 0.0167 - val_accuracy: 0.8565\n",
            "Epoch 6/20\n",
            "705/705 [==============================] - 56s 79ms/step - loss: 0.0131 - accuracy: 0.8844 - val_loss: 0.0168 - val_accuracy: 0.8584\n",
            "Epoch 7/20\n",
            "705/705 [==============================] - 56s 80ms/step - loss: 0.0125 - accuracy: 0.8895 - val_loss: 0.0164 - val_accuracy: 0.8589\n",
            "Epoch 8/20\n",
            "705/705 [==============================] - 56s 80ms/step - loss: 0.0116 - accuracy: 0.8969 - val_loss: 0.0167 - val_accuracy: 0.8596\n",
            "Epoch 9/20\n",
            "705/705 [==============================] - 55s 78ms/step - loss: 0.0108 - accuracy: 0.9036 - val_loss: 0.0165 - val_accuracy: 0.8605\n",
            "Epoch 10/20\n",
            "705/705 [==============================] - 55s 77ms/step - loss: 0.0100 - accuracy: 0.9104 - val_loss: 0.0170 - val_accuracy: 0.8623\n",
            "Epoch 11/20\n",
            "705/705 [==============================] - 55s 77ms/step - loss: 0.0093 - accuracy: 0.9166 - val_loss: 0.0175 - val_accuracy: 0.8629\n",
            "Epoch 12/20\n",
            "705/705 [==============================] - 55s 77ms/step - loss: 0.0086 - accuracy: 0.9230 - val_loss: 0.0182 - val_accuracy: 0.8601\n",
            "Epoch 13/20\n",
            "705/705 [==============================] - 56s 79ms/step - loss: 0.0079 - accuracy: 0.9293 - val_loss: 0.0186 - val_accuracy: 0.8617\n",
            "Epoch 14/20\n",
            "705/705 [==============================] - 56s 80ms/step - loss: 0.0072 - accuracy: 0.9367 - val_loss: 0.0200 - val_accuracy: 0.8574\n"
          ],
          "name": "stdout"
        },
        {
          "output_type": "stream",
          "text": [
            "Epoch 15/20\n",
            "705/705 [==============================] - 55s 78ms/step - loss: 0.0068 - accuracy: 0.9397 - val_loss: 0.0211 - val_accuracy: 0.8565\n",
            "Epoch 16/20\n",
            "705/705 [==============================] - 55s 78ms/step - loss: 0.0063 - accuracy: 0.9448 - val_loss: 0.0217 - val_accuracy: 0.8579\n",
            "Epoch 17/20\n",
            "705/705 [==============================] - 55s 78ms/step - loss: 0.0057 - accuracy: 0.9500 - val_loss: 0.0231 - val_accuracy: 0.8551\n",
            "Epoch 18/20\n",
            "705/705 [==============================] - 56s 80ms/step - loss: 0.0053 - accuracy: 0.9531 - val_loss: 0.0253 - val_accuracy: 0.8493\n",
            "Epoch 19/20\n",
            "705/705 [==============================] - 54s 76ms/step - loss: 0.0050 - accuracy: 0.9562 - val_loss: 0.0261 - val_accuracy: 0.8516\n",
            "Epoch 20/20\n",
            "705/705 [==============================] - 54s 76ms/step - loss: 0.0048 - accuracy: 0.9588 - val_loss: 0.0273 - val_accuracy: 0.8508\n",
            "Epoch 1/20\n",
            "705/705 [==============================] - 59s 83ms/step - loss: 0.0846 - accuracy: 0.4145 - val_loss: 0.0237 - val_accuracy: 0.8056\n",
            "Epoch 2/20\n",
            "705/705 [==============================] - 58s 83ms/step - loss: 0.0209 - accuracy: 0.8231 - val_loss: 0.0187 - val_accuracy: 0.8416\n",
            "Epoch 3/20\n",
            "705/705 [==============================] - 60s 86ms/step - loss: 0.0167 - accuracy: 0.8534 - val_loss: 0.0173 - val_accuracy: 0.8500\n",
            "Epoch 4/20\n",
            "705/705 [==============================] - 60s 85ms/step - loss: 0.0149 - accuracy: 0.8696 - val_loss: 0.0170 - val_accuracy: 0.8531\n",
            "Epoch 5/20\n",
            "705/705 [==============================] - 59s 84ms/step - loss: 0.0134 - accuracy: 0.8817 - val_loss: 0.0163 - val_accuracy: 0.8551\n",
            "Epoch 6/20\n",
            "705/705 [==============================] - 59s 83ms/step - loss: 0.0121 - accuracy: 0.8904 - val_loss: 0.0156 - val_accuracy: 0.8650\n",
            "Epoch 7/20\n",
            "705/705 [==============================] - 58s 83ms/step - loss: 0.0110 - accuracy: 0.9009 - val_loss: 0.0160 - val_accuracy: 0.8645\n",
            "Epoch 8/20\n",
            "705/705 [==============================] - 58s 83ms/step - loss: 0.0101 - accuracy: 0.9083 - val_loss: 0.0170 - val_accuracy: 0.8554\n",
            "Epoch 9/20\n",
            "705/705 [==============================] - 58s 83ms/step - loss: 0.0093 - accuracy: 0.9146 - val_loss: 0.0170 - val_accuracy: 0.8630\n",
            "Epoch 10/20\n",
            "705/705 [==============================] - 59s 84ms/step - loss: 0.0085 - accuracy: 0.9214 - val_loss: 0.0180 - val_accuracy: 0.8611\n",
            "Epoch 11/20\n",
            "705/705 [==============================] - 59s 83ms/step - loss: 0.0076 - accuracy: 0.9330 - val_loss: 0.0183 - val_accuracy: 0.8598\n",
            "Epoch 12/20\n",
            "705/705 [==============================] - 59s 83ms/step - loss: 0.0069 - accuracy: 0.9386 - val_loss: 0.0195 - val_accuracy: 0.8585\n",
            "Epoch 13/20\n",
            "705/705 [==============================] - 58s 83ms/step - loss: 0.0061 - accuracy: 0.9464 - val_loss: 0.0206 - val_accuracy: 0.8606\n",
            "Epoch 14/20\n",
            "705/705 [==============================] - 58s 83ms/step - loss: 0.0057 - accuracy: 0.9494 - val_loss: 0.0218 - val_accuracy: 0.8592\n",
            "Epoch 15/20\n",
            "705/705 [==============================] - 58s 83ms/step - loss: 0.0052 - accuracy: 0.9550 - val_loss: 0.0238 - val_accuracy: 0.8581\n",
            "Epoch 16/20\n",
            "705/705 [==============================] - 58s 83ms/step - loss: 0.0047 - accuracy: 0.9584 - val_loss: 0.0255 - val_accuracy: 0.8518\n",
            "Epoch 17/20\n",
            "705/705 [==============================] - 58s 83ms/step - loss: 0.0043 - accuracy: 0.9632 - val_loss: 0.0262 - val_accuracy: 0.8588\n",
            "Epoch 18/20\n",
            "705/705 [==============================] - 59s 83ms/step - loss: 0.0040 - accuracy: 0.9668 - val_loss: 0.0289 - val_accuracy: 0.8517\n",
            "Epoch 19/20\n",
            "705/705 [==============================] - 58s 83ms/step - loss: 0.0037 - accuracy: 0.9692 - val_loss: 0.0296 - val_accuracy: 0.8541\n",
            "Epoch 20/20\n",
            "705/705 [==============================] - 59s 83ms/step - loss: 0.0033 - accuracy: 0.9723 - val_loss: 0.0315 - val_accuracy: 0.8529\n",
            "Epoch 1/20\n",
            "705/705 [==============================] - 71s 99ms/step - loss: 0.0796 - accuracy: 0.4495 - val_loss: 0.0216 - val_accuracy: 0.8111\n",
            "Epoch 2/20\n",
            "705/705 [==============================] - 69s 99ms/step - loss: 0.0191 - accuracy: 0.8341 - val_loss: 0.0180 - val_accuracy: 0.8445\n",
            "Epoch 3/20\n",
            "705/705 [==============================] - 69s 98ms/step - loss: 0.0155 - accuracy: 0.8629 - val_loss: 0.0164 - val_accuracy: 0.8562\n",
            "Epoch 4/20\n",
            "705/705 [==============================] - 70s 99ms/step - loss: 0.0135 - accuracy: 0.8794 - val_loss: 0.0160 - val_accuracy: 0.8613\n",
            "Epoch 5/20\n",
            "705/705 [==============================] - 69s 98ms/step - loss: 0.0120 - accuracy: 0.8907 - val_loss: 0.0155 - val_accuracy: 0.8638\n",
            "Epoch 6/20\n",
            "705/705 [==============================] - 69s 99ms/step - loss: 0.0107 - accuracy: 0.9027 - val_loss: 0.0160 - val_accuracy: 0.8616\n",
            "Epoch 7/20\n",
            "705/705 [==============================] - 69s 98ms/step - loss: 0.0096 - accuracy: 0.9135 - val_loss: 0.0163 - val_accuracy: 0.8626\n",
            "Epoch 8/20\n",
            "705/705 [==============================] - 70s 99ms/step - loss: 0.0085 - accuracy: 0.9226 - val_loss: 0.0169 - val_accuracy: 0.8630\n",
            "Epoch 9/20\n",
            "705/705 [==============================] - 70s 100ms/step - loss: 0.0076 - accuracy: 0.9294 - val_loss: 0.0182 - val_accuracy: 0.8598\n",
            "Epoch 10/20\n",
            "705/705 [==============================] - 69s 98ms/step - loss: 0.0066 - accuracy: 0.9390 - val_loss: 0.0191 - val_accuracy: 0.8637\n",
            "Epoch 11/20\n",
            "705/705 [==============================] - 70s 99ms/step - loss: 0.0059 - accuracy: 0.9462 - val_loss: 0.0210 - val_accuracy: 0.8611\n",
            "Epoch 12/20\n",
            "705/705 [==============================] - 69s 98ms/step - loss: 0.0051 - accuracy: 0.9539 - val_loss: 0.0219 - val_accuracy: 0.8585\n",
            "Epoch 13/20\n",
            "705/705 [==============================] - 70s 99ms/step - loss: 0.0046 - accuracy: 0.9586 - val_loss: 0.0238 - val_accuracy: 0.8589\n",
            "Epoch 14/20\n",
            "705/705 [==============================] - 70s 99ms/step - loss: 0.0041 - accuracy: 0.9640 - val_loss: 0.0261 - val_accuracy: 0.8543\n",
            "Epoch 15/20\n",
            "705/705 [==============================] - 70s 99ms/step - loss: 0.0038 - accuracy: 0.9682 - val_loss: 0.0279 - val_accuracy: 0.8551\n",
            "Epoch 16/20\n",
            "705/705 [==============================] - 69s 99ms/step - loss: 0.0034 - accuracy: 0.9705 - val_loss: 0.0296 - val_accuracy: 0.8521\n",
            "Epoch 17/20\n",
            "705/705 [==============================] - 70s 99ms/step - loss: 0.0032 - accuracy: 0.9732 - val_loss: 0.0317 - val_accuracy: 0.8529\n",
            "Epoch 18/20\n",
            "705/705 [==============================] - 70s 99ms/step - loss: 0.0028 - accuracy: 0.9774 - val_loss: 0.0326 - val_accuracy: 0.8547\n",
            "Epoch 19/20\n",
            "705/705 [==============================] - 70s 99ms/step - loss: 0.0027 - accuracy: 0.9791 - val_loss: 0.0333 - val_accuracy: 0.8546\n",
            "Epoch 20/20\n",
            "705/705 [==============================] - 70s 99ms/step - loss: 0.0024 - accuracy: 0.9810 - val_loss: 0.0361 - val_accuracy: 0.8550\n"
          ],
          "name": "stdout"
        }
      ]
    },
    {
      "cell_type": "code",
      "metadata": {
        "id": "szjUf_tFLPQl",
        "outputId": "32262cd9-46cf-40f6-cf3d-486b0e6ee78c"
      },
      "source": [
        "print(np.mean(train_result[0].history['accuracy']))\n",
        "print(np.mean(train_result[1].history['accuracy']))\n",
        "print(np.mean(train_result[2].history['accuracy']))\n",
        "print(np.mean(train_result[3].history['accuracy']))\n",
        "print(np.mean(train_result[4].history['accuracy']))\n",
        "print(np.mean(train_result[5].history['accuracy']))\n",
        "print(np.mean(train_result[6].history['accuracy']))\n",
        "print(np.mean(train_result[7].history['accuracy']))\n"
      ],
      "execution_count": null,
      "outputs": [
        {
          "output_type": "stream",
          "text": [
            "0.8540619492530823\n",
            "0.8056826278567314\n",
            "0.8259430423378944\n",
            "0.8584718495607376\n",
            "0.8775099724531173\n",
            "0.8936181247234345\n",
            "0.9060123056173325\n",
            "0.9191982507705688\n"
          ],
          "name": "stdout"
        }
      ]
    },
    {
      "cell_type": "code",
      "metadata": {
        "id": "73S6BJWCLPQl"
      },
      "source": [
        "nets = 8\n",
        "model = [0] *nets\n",
        "\n",
        "for j in range(8):\n",
        "    model[j] = Sequential()\n",
        "    model[j].add(Conv2D(24,kernel_size=5,activation='relu',input_shape=(28,28,1)))\n",
        "    model[j].add(MaxPool2D())\n",
        "    model[j].add(Dropout(j*0.1))\n",
        "    model[j].add(Conv2D(48,kernel_size=5,activation='relu'))\n",
        "    model[j].add(MaxPool2D())\n",
        "    model[j].add(Dropout(j*0.1))\n",
        "    model[j].add(Flatten())\n",
        "    model[j].add(Dense(256, activation='relu'))\n",
        "    model[j].add(Dropout(j*0.1))\n",
        "    model[j].add(Dense(47, activation='sigmoid'))\n",
        "    model[j].compile(optimizer=\"adam\", loss=\"binary_crossentropy\", metrics=[\"accuracy\"])"
      ],
      "execution_count": null,
      "outputs": []
    },
    {
      "cell_type": "code",
      "metadata": {
        "id": "MSY6M0siLPQl",
        "outputId": "ba037750-055d-44f9-e87d-c9fd4917f194"
      },
      "source": [
        "train_result = []\n",
        "for i in range (8):\n",
        "    train = model[i].fit(trainX, trainY,batch_size = 128, epochs = 20,\n",
        "                 validation_data=(validationX,validationY))\n",
        "    train_result.append(train)"
      ],
      "execution_count": null,
      "outputs": [
        {
          "output_type": "stream",
          "text": [
            "Epoch 1/20\n",
            "705/705 [==============================] - 62s 88ms/step - loss: 0.0973 - accuracy: 0.3562 - val_loss: 0.0284 - val_accuracy: 0.7684\n",
            "Epoch 2/20\n",
            "705/705 [==============================] - 64s 90ms/step - loss: 0.0257 - accuracy: 0.7903 - val_loss: 0.0230 - val_accuracy: 0.8090\n",
            "Epoch 3/20\n",
            "705/705 [==============================] - 60s 85ms/step - loss: 0.0207 - accuracy: 0.8280 - val_loss: 0.0200 - val_accuracy: 0.8315\n",
            "Epoch 4/20\n",
            "705/705 [==============================] - 57s 81ms/step - loss: 0.0181 - accuracy: 0.8474 - val_loss: 0.0187 - val_accuracy: 0.8407\n",
            "Epoch 5/20\n",
            "705/705 [==============================] - 59s 83ms/step - loss: 0.0164 - accuracy: 0.8603 - val_loss: 0.0177 - val_accuracy: 0.8497\n",
            "Epoch 6/20\n",
            "705/705 [==============================] - 58s 82ms/step - loss: 0.0153 - accuracy: 0.8674 - val_loss: 0.0174 - val_accuracy: 0.8499\n",
            "Epoch 7/20\n",
            "705/705 [==============================] - 59s 83ms/step - loss: 0.0144 - accuracy: 0.8757 - val_loss: 0.0168 - val_accuracy: 0.8550\n",
            "Epoch 8/20\n",
            "705/705 [==============================] - 57s 81ms/step - loss: 0.0136 - accuracy: 0.8800 - val_loss: 0.0164 - val_accuracy: 0.8571\n",
            "Epoch 9/20\n",
            "705/705 [==============================] - 58s 82ms/step - loss: 0.0128 - accuracy: 0.8885 - val_loss: 0.0161 - val_accuracy: 0.8640 0.0128 - accuracy\n",
            "Epoch 10/20\n",
            "705/705 [==============================] - 57s 81ms/step - loss: 0.0123 - accuracy: 0.8928 - val_loss: 0.0163 - val_accuracy: 0.8616\n",
            "Epoch 11/20\n",
            "705/705 [==============================] - 57s 81ms/step - loss: 0.0117 - accuracy: 0.8961 - val_loss: 0.0164 - val_accuracy: 0.8618\n",
            "Epoch 12/20\n",
            "705/705 [==============================] - 57s 80ms/step - loss: 0.0113 - accuracy: 0.8997 - val_loss: 0.0162 - val_accuracy: 0.8639\n",
            "Epoch 13/20\n",
            "705/705 [==============================] - 58s 82ms/step - loss: 0.0106 - accuracy: 0.9059 - val_loss: 0.0175 - val_accuracy: 0.8563\n",
            "Epoch 14/20\n",
            "705/705 [==============================] - 57s 81ms/step - loss: 0.0101 - accuracy: 0.9107 - val_loss: 0.0170 - val_accuracy: 0.8593\n",
            "Epoch 15/20\n",
            "705/705 [==============================] - 57s 81ms/step - loss: 0.0097 - accuracy: 0.9152 - val_loss: 0.0173 - val_accuracy: 0.8629\n",
            "Epoch 16/20\n",
            "705/705 [==============================] - 56s 80ms/step - loss: 0.0092 - accuracy: 0.9191 - val_loss: 0.0177 - val_accuracy: 0.8565\n",
            "Epoch 17/20\n",
            "705/705 [==============================] - 59s 84ms/step - loss: 0.0089 - accuracy: 0.9220 - val_loss: 0.0182 - val_accuracy: 0.8613\n",
            "Epoch 18/20\n",
            "705/705 [==============================] - 58s 82ms/step - loss: 0.0086 - accuracy: 0.9253 - val_loss: 0.0185 - val_accuracy: 0.8566\n",
            "Epoch 19/20\n",
            "705/705 [==============================] - 54s 76ms/step - loss: 0.0081 - accuracy: 0.9297 - val_loss: 0.0192 - val_accuracy: 0.8575\n",
            "Epoch 20/20\n",
            "705/705 [==============================] - 54s 77ms/step - loss: 0.0078 - accuracy: 0.9326 - val_loss: 0.0198 - val_accuracy: 0.8574\n",
            "Epoch 1/20\n",
            "705/705 [==============================] - 58s 81ms/step - loss: 0.0995 - accuracy: 0.3230 - val_loss: 0.0253 - val_accuracy: 0.7871\n",
            "Epoch 2/20\n",
            "705/705 [==============================] - 60s 86ms/step - loss: 0.0256 - accuracy: 0.7862 - val_loss: 0.0202 - val_accuracy: 0.8272\n",
            "Epoch 3/20\n",
            "705/705 [==============================] - 58s 83ms/step - loss: 0.0207 - accuracy: 0.8223 - val_loss: 0.0180 - val_accuracy: 0.8413\n",
            "Epoch 4/20\n",
            "705/705 [==============================] - 58s 83ms/step - loss: 0.0181 - accuracy: 0.8453 - val_loss: 0.0169 - val_accuracy: 0.8486\n",
            "Epoch 5/20\n",
            "705/705 [==============================] - 58s 83ms/step - loss: 0.0170 - accuracy: 0.8521 - val_loss: 0.0162 - val_accuracy: 0.8552\n",
            "Epoch 6/20\n",
            "705/705 [==============================] - 59s 83ms/step - loss: 0.0159 - accuracy: 0.8603 - val_loss: 0.0158 - val_accuracy: 0.8572\n",
            "Epoch 7/20\n",
            "705/705 [==============================] - 59s 84ms/step - loss: 0.0151 - accuracy: 0.8672 - val_loss: 0.0159 - val_accuracy: 0.8563\n",
            "Epoch 8/20\n",
            "705/705 [==============================] - 59s 83ms/step - loss: 0.0144 - accuracy: 0.8717 - val_loss: 0.0155 - val_accuracy: 0.8602\n",
            "Epoch 9/20\n",
            "705/705 [==============================] - 58s 83ms/step - loss: 0.0140 - accuracy: 0.8740 - val_loss: 0.0153 - val_accuracy: 0.8643\n",
            "Epoch 10/20\n",
            "705/705 [==============================] - 59s 83ms/step - loss: 0.0133 - accuracy: 0.8831 - val_loss: 0.0151 - val_accuracy: 0.8663\n",
            "Epoch 11/20\n",
            "705/705 [==============================] - 58s 83ms/step - loss: 0.0130 - accuracy: 0.8843 - val_loss: 0.0152 - val_accuracy: 0.8662\n",
            "Epoch 12/20\n",
            "705/705 [==============================] - 59s 84ms/step - loss: 0.0125 - accuracy: 0.8881 - val_loss: 0.0152 - val_accuracy: 0.8664\n",
            "Epoch 13/20\n",
            "705/705 [==============================] - 59s 83ms/step - loss: 0.0120 - accuracy: 0.8929 - val_loss: 0.0150 - val_accuracy: 0.8657\n",
            "Epoch 14/20\n",
            "705/705 [==============================] - 59s 83ms/step - loss: 0.0120 - accuracy: 0.8912 - val_loss: 0.0153 - val_accuracy: 0.8678\n",
            "Epoch 15/20\n",
            "705/705 [==============================] - 58s 83ms/step - loss: 0.0114 - accuracy: 0.8972 - val_loss: 0.0152 - val_accuracy: 0.8663\n",
            "Epoch 16/20\n",
            "705/705 [==============================] - 57s 81ms/step - loss: 0.0113 - accuracy: 0.8991 - val_loss: 0.0153 - val_accuracy: 0.8668\n",
            "Epoch 17/20\n",
            "705/705 [==============================] - 57s 81ms/step - loss: 0.0110 - accuracy: 0.9021 - val_loss: 0.0154 - val_accuracy: 0.8661\n",
            "Epoch 18/20\n",
            "705/705 [==============================] - 57s 81ms/step - loss: 0.0107 - accuracy: 0.9045 - val_loss: 0.0155 - val_accuracy: 0.8670\n",
            "Epoch 19/20\n",
            "705/705 [==============================] - 57s 81ms/step - loss: 0.0105 - accuracy: 0.9065 - val_loss: 0.0157 - val_accuracy: 0.8660\n",
            "Epoch 20/20\n",
            "705/705 [==============================] - 57s 81ms/step - loss: 0.0103 - accuracy: 0.9084 - val_loss: 0.0157 - val_accuracy: 0.8664\n",
            "Epoch 1/20\n",
            "705/705 [==============================] - 59s 82ms/step - loss: 0.1078 - accuracy: 0.2667 - val_loss: 0.0257 - val_accuracy: 0.7857\n",
            "Epoch 2/20\n",
            "705/705 [==============================] - 58s 82ms/step - loss: 0.0283 - accuracy: 0.7656 - val_loss: 0.0202 - val_accuracy: 0.8276\n",
            "Epoch 3/20\n",
            "705/705 [==============================] - 58s 82ms/step - loss: 0.0225 - accuracy: 0.8093 - val_loss: 0.0181 - val_accuracy: 0.8414\n",
            "Epoch 4/20\n",
            "705/705 [==============================] - 58s 82ms/step - loss: 0.0200 - accuracy: 0.8284 - val_loss: 0.0169 - val_accuracy: 0.8481\n",
            "Epoch 5/20\n",
            "705/705 [==============================] - 58s 82ms/step - loss: 0.0186 - accuracy: 0.8378 - val_loss: 0.0163 - val_accuracy: 0.8534\n",
            "Epoch 6/20\n",
            "705/705 [==============================] - 58s 82ms/step - loss: 0.0176 - accuracy: 0.8469 - val_loss: 0.0157 - val_accuracy: 0.8575\n",
            "Epoch 7/20\n",
            "705/705 [==============================] - 58s 82ms/step - loss: 0.0171 - accuracy: 0.8502 - val_loss: 0.0156 - val_accuracy: 0.8592\n",
            "Epoch 8/20\n",
            "705/705 [==============================] - 58s 82ms/step - loss: 0.0163 - accuracy: 0.8584 - val_loss: 0.0152 - val_accuracy: 0.8614\n",
            "Epoch 9/20\n",
            "705/705 [==============================] - 58s 82ms/step - loss: 0.0159 - accuracy: 0.8580 - val_loss: 0.0149 - val_accuracy: 0.8654\n",
            "Epoch 10/20\n",
            "705/705 [==============================] - 58s 82ms/step - loss: 0.0153 - accuracy: 0.8633 - val_loss: 0.0148 - val_accuracy: 0.8674\n",
            "Epoch 11/20\n",
            "705/705 [==============================] - 59s 83ms/step - loss: 0.0150 - accuracy: 0.8657 - val_loss: 0.0149 - val_accuracy: 0.8649\n",
            "Epoch 12/20\n",
            "705/705 [==============================] - 58s 82ms/step - loss: 0.0144 - accuracy: 0.8712 - val_loss: 0.0146 - val_accuracy: 0.8684\n",
            "Epoch 13/20\n",
            "705/705 [==============================] - 58s 82ms/step - loss: 0.0143 - accuracy: 0.8740 - val_loss: 0.0147 - val_accuracy: 0.8688\n",
            "Epoch 14/20\n",
            "705/705 [==============================] - 58s 82ms/step - loss: 0.0139 - accuracy: 0.8755 - val_loss: 0.0147 - val_accuracy: 0.8672\n",
            "Epoch 15/20\n",
            "705/705 [==============================] - 58s 82ms/step - loss: 0.0138 - accuracy: 0.8778 - val_loss: 0.0146 - val_accuracy: 0.8680\n",
            "Epoch 16/20\n",
            "705/705 [==============================] - 58s 82ms/step - loss: 0.0135 - accuracy: 0.8784 - val_loss: 0.0147 - val_accuracy: 0.8679\n",
            "Epoch 17/20\n",
            "705/705 [==============================] - 56s 79ms/step - loss: 0.0132 - accuracy: 0.8830 - val_loss: 0.0145 - val_accuracy: 0.8685\n",
            "Epoch 18/20\n",
            "705/705 [==============================] - 56s 79ms/step - loss: 0.0130 - accuracy: 0.8863 - val_loss: 0.0146 - val_accuracy: 0.8691\n",
            "Epoch 19/20\n",
            "705/705 [==============================] - 56s 80ms/step - loss: 0.0129 - accuracy: 0.8818 - val_loss: 0.0145 - val_accuracy: 0.8719\n",
            "Epoch 20/20\n",
            "705/705 [==============================] - 56s 79ms/step - loss: 0.0128 - accuracy: 0.8863 - val_loss: 0.0146 - val_accuracy: 0.8690\n",
            "Epoch 1/20\n",
            "705/705 [==============================] - 57s 80ms/step - loss: 0.1071 - accuracy: 0.2467 - val_loss: 0.0268 - val_accuracy: 0.7776\n",
            "Epoch 2/20\n",
            "705/705 [==============================] - 56s 79ms/step - loss: 0.0317 - accuracy: 0.7342 - val_loss: 0.0207 - val_accuracy: 0.8177\n",
            "Epoch 3/20\n",
            "705/705 [==============================] - 56s 79ms/step - loss: 0.0252 - accuracy: 0.7862 - val_loss: 0.0185 - val_accuracy: 0.8346\n",
            "Epoch 4/20\n",
            "705/705 [==============================] - 59s 83ms/step - loss: 0.0223 - accuracy: 0.8107 - val_loss: 0.0176 - val_accuracy: 0.8432\n",
            "Epoch 5/20\n",
            "705/705 [==============================] - 56s 80ms/step - loss: 0.0211 - accuracy: 0.8190 - val_loss: 0.0168 - val_accuracy: 0.8481\n",
            "Epoch 6/20\n",
            "705/705 [==============================] - 56s 79ms/step - loss: 0.0201 - accuracy: 0.8254 - val_loss: 0.0163 - val_accuracy: 0.8502\n",
            "Epoch 7/20\n",
            "705/705 [==============================] - 56s 79ms/step - loss: 0.0192 - accuracy: 0.8315 - val_loss: 0.0158 - val_accuracy: 0.8575\n",
            "Epoch 8/20\n",
            "705/705 [==============================] - 56s 79ms/step - loss: 0.0185 - accuracy: 0.8390 - val_loss: 0.0155 - val_accuracy: 0.8581\n",
            "Epoch 9/20\n",
            "705/705 [==============================] - 56s 79ms/step - loss: 0.0180 - accuracy: 0.8434 - val_loss: 0.0154 - val_accuracy: 0.8570\n",
            "Epoch 10/20\n",
            "705/705 [==============================] - 56s 79ms/step - loss: 0.0176 - accuracy: 0.8446 - val_loss: 0.0153 - val_accuracy: 0.8590\n",
            "Epoch 11/20\n",
            "705/705 [==============================] - 56s 79ms/step - loss: 0.0175 - accuracy: 0.8470 - val_loss: 0.0151 - val_accuracy: 0.8629\n",
            "Epoch 12/20\n",
            "705/705 [==============================] - 56s 79ms/step - loss: 0.0171 - accuracy: 0.8500 - val_loss: 0.0149 - val_accuracy: 0.8623\n",
            "Epoch 13/20\n",
            "705/705 [==============================] - 56s 79ms/step - loss: 0.0167 - accuracy: 0.8536 - val_loss: 0.0148 - val_accuracy: 0.8636\n",
            "Epoch 14/20\n",
            "705/705 [==============================] - 56s 79ms/step - loss: 0.0166 - accuracy: 0.8530 - val_loss: 0.0146 - val_accuracy: 0.8665\n",
            "Epoch 15/20\n",
            "705/705 [==============================] - 56s 79ms/step - loss: 0.0162 - accuracy: 0.8561 - val_loss: 0.0144 - val_accuracy: 0.8679\n",
            "Epoch 16/20\n",
            "705/705 [==============================] - 56s 79ms/step - loss: 0.0159 - accuracy: 0.8614 - val_loss: 0.0144 - val_accuracy: 0.8659\n",
            "Epoch 17/20\n",
            "705/705 [==============================] - 56s 79ms/step - loss: 0.0158 - accuracy: 0.8583 - val_loss: 0.0145 - val_accuracy: 0.8674\n",
            "Epoch 18/20\n",
            "705/705 [==============================] - 56s 79ms/step - loss: 0.0156 - accuracy: 0.8628 - val_loss: 0.0144 - val_accuracy: 0.8672\n",
            "Epoch 19/20\n",
            "705/705 [==============================] - 56s 79ms/step - loss: 0.0152 - accuracy: 0.8642 - val_loss: 0.0144 - val_accuracy: 0.8690\n",
            "Epoch 20/20\n",
            "705/705 [==============================] - 56s 79ms/step - loss: 0.0154 - accuracy: 0.8643 - val_loss: 0.0144 - val_accuracy: 0.8678\n",
            "Epoch 1/20\n",
            "705/705 [==============================] - 58s 81ms/step - loss: 0.1154 - accuracy: 0.2071 - val_loss: 0.0289 - val_accuracy: 0.7635\n",
            "Epoch 2/20\n",
            "705/705 [==============================] - 57s 81ms/step - loss: 0.0349 - accuracy: 0.7091 - val_loss: 0.0219 - val_accuracy: 0.8094\n",
            "Epoch 3/20\n",
            "705/705 [==============================] - 57s 81ms/step - loss: 0.0282 - accuracy: 0.7651 - val_loss: 0.0194 - val_accuracy: 0.8299\n",
            "Epoch 4/20\n",
            "705/705 [==============================] - 57s 81ms/step - loss: 0.0253 - accuracy: 0.7841 - val_loss: 0.0183 - val_accuracy: 0.8359\n",
            "Epoch 5/20\n",
            "705/705 [==============================] - 56s 80ms/step - loss: 0.0234 - accuracy: 0.8005 - val_loss: 0.0176 - val_accuracy: 0.8426\n",
            "Epoch 6/20\n",
            "705/705 [==============================] - 57s 80ms/step - loss: 0.0222 - accuracy: 0.8099 - val_loss: 0.0167 - val_accuracy: 0.8501\n",
            "Epoch 7/20\n",
            "705/705 [==============================] - 56s 80ms/step - loss: 0.0215 - accuracy: 0.8155 - val_loss: 0.0166 - val_accuracy: 0.8502\n",
            "Epoch 8/20\n",
            "705/705 [==============================] - 56s 80ms/step - loss: 0.0209 - accuracy: 0.8199 - val_loss: 0.0160 - val_accuracy: 0.8551\n",
            "Epoch 9/20\n",
            "705/705 [==============================] - 57s 81ms/step - loss: 0.0204 - accuracy: 0.8225 - val_loss: 0.0158 - val_accuracy: 0.8546\n",
            "Epoch 10/20\n",
            "705/705 [==============================] - 57s 80ms/step - loss: 0.0199 - accuracy: 0.8272 - val_loss: 0.0157 - val_accuracy: 0.8559\n",
            "Epoch 11/20\n",
            "705/705 [==============================] - 57s 81ms/step - loss: 0.0197 - accuracy: 0.8297 - val_loss: 0.0154 - val_accuracy: 0.8582\n",
            "Epoch 12/20\n",
            "705/705 [==============================] - 57s 81ms/step - loss: 0.0196 - accuracy: 0.8288 - val_loss: 0.0153 - val_accuracy: 0.8582\n",
            "Epoch 13/20\n",
            "705/705 [==============================] - 57s 81ms/step - loss: 0.0191 - accuracy: 0.8336 - val_loss: 0.0152 - val_accuracy: 0.8604\n",
            "Epoch 14/20\n",
            "705/705 [==============================] - 57s 81ms/step - loss: 0.0189 - accuracy: 0.8361 - val_loss: 0.0151 - val_accuracy: 0.8623\n",
            "Epoch 15/20\n",
            "705/705 [==============================] - 57s 81ms/step - loss: 0.0188 - accuracy: 0.8354 - val_loss: 0.0149 - val_accuracy: 0.8638\n",
            "Epoch 16/20\n",
            "705/705 [==============================] - 57s 81ms/step - loss: 0.0185 - accuracy: 0.8385 - val_loss: 0.0149 - val_accuracy: 0.8628\n",
            "Epoch 17/20\n",
            "705/705 [==============================] - 57s 81ms/step - loss: 0.0182 - accuracy: 0.8407 - val_loss: 0.0149 - val_accuracy: 0.8629\n",
            "Epoch 18/20\n",
            "705/705 [==============================] - 57s 81ms/step - loss: 0.0180 - accuracy: 0.8405 - val_loss: 0.0148 - val_accuracy: 0.8651\n",
            "Epoch 19/20\n",
            "705/705 [==============================] - 57s 81ms/step - loss: 0.0182 - accuracy: 0.8415 - val_loss: 0.0148 - val_accuracy: 0.8652\n",
            "Epoch 20/20\n",
            "705/705 [==============================] - 57s 80ms/step - loss: 0.0179 - accuracy: 0.8426 - val_loss: 0.0148 - val_accuracy: 0.8629\n",
            "Epoch 1/20\n",
            "705/705 [==============================] - 58s 81ms/step - loss: 0.1256 - accuracy: 0.1545 - val_loss: 0.0340 - val_accuracy: 0.7387\n",
            "Epoch 2/20\n",
            "705/705 [==============================] - 57s 81ms/step - loss: 0.0417 - accuracy: 0.6451 - val_loss: 0.0253 - val_accuracy: 0.7907\n",
            "Epoch 3/20\n",
            "705/705 [==============================] - 57s 81ms/step - loss: 0.0333 - accuracy: 0.7194 - val_loss: 0.0219 - val_accuracy: 0.8099\n",
            "Epoch 4/20\n",
            "705/705 [==============================] - 57s 81ms/step - loss: 0.0297 - accuracy: 0.7513 - val_loss: 0.0201 - val_accuracy: 0.8223\n",
            "Epoch 5/20\n",
            "705/705 [==============================] - 57s 81ms/step - loss: 0.0280 - accuracy: 0.7615 - val_loss: 0.0189 - val_accuracy: 0.8280\n",
            "Epoch 6/20\n",
            "705/705 [==============================] - 57s 81ms/step - loss: 0.0263 - accuracy: 0.7755 - val_loss: 0.0182 - val_accuracy: 0.8367\n",
            "Epoch 7/20\n",
            "705/705 [==============================] - 57s 81ms/step - loss: 0.0253 - accuracy: 0.7848 - val_loss: 0.0177 - val_accuracy: 0.8402\n",
            "Epoch 8/20\n",
            "705/705 [==============================] - 57s 81ms/step - loss: 0.0248 - accuracy: 0.7864 - val_loss: 0.0174 - val_accuracy: 0.8417\n",
            "Epoch 9/20\n",
            "705/705 [==============================] - 57s 82ms/step - loss: 0.0240 - accuracy: 0.7929 - val_loss: 0.0171 - val_accuracy: 0.8424\n",
            "Epoch 10/20\n",
            "705/705 [==============================] - 57s 81ms/step - loss: 0.0238 - accuracy: 0.7967 - val_loss: 0.0168 - val_accuracy: 0.8461\n",
            "Epoch 11/20\n",
            "705/705 [==============================] - 57s 81ms/step - loss: 0.0232 - accuracy: 0.8012 - val_loss: 0.0166 - val_accuracy: 0.8480\n",
            "Epoch 12/20\n",
            "705/705 [==============================] - 57s 81ms/step - loss: 0.0232 - accuracy: 0.7993 - val_loss: 0.0165 - val_accuracy: 0.8483\n",
            "Epoch 13/20\n",
            "705/705 [==============================] - 57s 81ms/step - loss: 0.0227 - accuracy: 0.8041 - val_loss: 0.0163 - val_accuracy: 0.8517\n"
          ],
          "name": "stdout"
        },
        {
          "output_type": "stream",
          "text": [
            "Epoch 14/20\n",
            "705/705 [==============================] - 56s 79ms/step - loss: 0.0224 - accuracy: 0.8070 - val_loss: 0.0161 - val_accuracy: 0.8508\n",
            "Epoch 15/20\n",
            "705/705 [==============================] - 56s 79ms/step - loss: 0.0221 - accuracy: 0.8074 - val_loss: 0.0159 - val_accuracy: 0.8534\n",
            "Epoch 16/20\n",
            "705/705 [==============================] - 56s 79ms/step - loss: 0.0219 - accuracy: 0.8115 - val_loss: 0.0159 - val_accuracy: 0.8531\n",
            "Epoch 17/20\n",
            "705/705 [==============================] - 56s 79ms/step - loss: 0.0216 - accuracy: 0.8165 - val_loss: 0.0159 - val_accuracy: 0.8517\n",
            "Epoch 18/20\n",
            "705/705 [==============================] - 56s 79ms/step - loss: 0.0217 - accuracy: 0.8115 - val_loss: 0.0158 - val_accuracy: 0.8531\n",
            "Epoch 19/20\n",
            "705/705 [==============================] - 57s 80ms/step - loss: 0.0213 - accuracy: 0.8157 - val_loss: 0.0157 - val_accuracy: 0.8557\n",
            "Epoch 20/20\n",
            "705/705 [==============================] - 57s 81ms/step - loss: 0.0213 - accuracy: 0.8145 - val_loss: 0.0156 - val_accuracy: 0.8559\n",
            "Epoch 1/20\n",
            "705/705 [==============================] - 58s 81ms/step - loss: 0.1287 - accuracy: 0.1244 - val_loss: 0.0405 - val_accuracy: 0.7090\n",
            "Epoch 2/20\n",
            "705/705 [==============================] - 57s 81ms/step - loss: 0.0489 - accuracy: 0.5745 - val_loss: 0.0280 - val_accuracy: 0.7742\n",
            "Epoch 3/20\n",
            "705/705 [==============================] - 58s 82ms/step - loss: 0.0393 - accuracy: 0.6652 - val_loss: 0.0250 - val_accuracy: 0.8005\n",
            "Epoch 4/20\n",
            "705/705 [==============================] - 57s 81ms/step - loss: 0.0352 - accuracy: 0.7041 - val_loss: 0.0224 - val_accuracy: 0.8087\n",
            "Epoch 5/20\n",
            "705/705 [==============================] - 58s 82ms/step - loss: 0.0331 - accuracy: 0.7200 - val_loss: 0.0214 - val_accuracy: 0.8172\n",
            "Epoch 6/20\n",
            "705/705 [==============================] - 57s 81ms/step - loss: 0.0316 - accuracy: 0.7330 - val_loss: 0.0205 - val_accuracy: 0.8214\n",
            "Epoch 7/20\n",
            "705/705 [==============================] - 58s 82ms/step - loss: 0.0305 - accuracy: 0.7396 - val_loss: 0.0197 - val_accuracy: 0.8260\n",
            "Epoch 8/20\n",
            "705/705 [==============================] - 60s 85ms/step - loss: 0.0295 - accuracy: 0.7509 - val_loss: 0.0195 - val_accuracy: 0.8300\n",
            "Epoch 9/20\n",
            "705/705 [==============================] - 56s 80ms/step - loss: 0.0291 - accuracy: 0.7513 - val_loss: 0.0189 - val_accuracy: 0.8310\n",
            "Epoch 10/20\n",
            "705/705 [==============================] - 56s 79ms/step - loss: 0.0286 - accuracy: 0.7572 - val_loss: 0.0189 - val_accuracy: 0.8320\n",
            "Epoch 11/20\n",
            "705/705 [==============================] - 56s 80ms/step - loss: 0.0281 - accuracy: 0.7625 - val_loss: 0.0185 - val_accuracy: 0.8347\n",
            "Epoch 12/20\n",
            "705/705 [==============================] - 56s 80ms/step - loss: 0.0279 - accuracy: 0.7653 - val_loss: 0.0181 - val_accuracy: 0.8352\n",
            "Epoch 13/20\n",
            "705/705 [==============================] - 56s 80ms/step - loss: 0.0275 - accuracy: 0.7649 - val_loss: 0.0180 - val_accuracy: 0.8391\n",
            "Epoch 14/20\n",
            "705/705 [==============================] - 56s 79ms/step - loss: 0.0273 - accuracy: 0.7665 - val_loss: 0.0177 - val_accuracy: 0.8396\n",
            "Epoch 15/20\n",
            "705/705 [==============================] - 56s 80ms/step - loss: 0.0269 - accuracy: 0.7711 - val_loss: 0.0177 - val_accuracy: 0.8376\n",
            "Epoch 16/20\n",
            "705/705 [==============================] - 56s 79ms/step - loss: 0.0268 - accuracy: 0.7718 - val_loss: 0.0176 - val_accuracy: 0.8416\n",
            "Epoch 17/20\n",
            "705/705 [==============================] - 56s 80ms/step - loss: 0.0266 - accuracy: 0.7718 - val_loss: 0.0175 - val_accuracy: 0.8427\n",
            "Epoch 18/20\n",
            "705/705 [==============================] - 56s 79ms/step - loss: 0.0263 - accuracy: 0.7748 - val_loss: 0.0175 - val_accuracy: 0.8422\n",
            "Epoch 19/20\n",
            "705/705 [==============================] - 56s 80ms/step - loss: 0.0265 - accuracy: 0.7748 - val_loss: 0.0172 - val_accuracy: 0.8451\n",
            "Epoch 20/20\n",
            "705/705 [==============================] - 56s 80ms/step - loss: 0.0262 - accuracy: 0.7733 - val_loss: 0.0172 - val_accuracy: 0.8446\n",
            "Epoch 1/20\n",
            "705/705 [==============================] - 57s 80ms/step - loss: 0.1476 - accuracy: 0.0555 - val_loss: 0.0577 - val_accuracy: 0.6387\n",
            "Epoch 2/20\n",
            "705/705 [==============================] - 57s 80ms/step - loss: 0.0620 - accuracy: 0.4458 - val_loss: 0.0349 - val_accuracy: 0.7388\n",
            "Epoch 3/20\n",
            "705/705 [==============================] - 56s 80ms/step - loss: 0.0489 - accuracy: 0.5772 - val_loss: 0.0298 - val_accuracy: 0.7701\n",
            "Epoch 4/20\n",
            "705/705 [==============================] - 56s 80ms/step - loss: 0.0439 - accuracy: 0.6222 - val_loss: 0.0274 - val_accuracy: 0.7838\n",
            "Epoch 5/20\n",
            "705/705 [==============================] - 56s 80ms/step - loss: 0.0414 - accuracy: 0.6434 - val_loss: 0.0255 - val_accuracy: 0.7916\n",
            "Epoch 6/20\n",
            "705/705 [==============================] - 56s 80ms/step - loss: 0.0396 - accuracy: 0.6626 - val_loss: 0.0243 - val_accuracy: 0.8003\n",
            "Epoch 7/20\n",
            "705/705 [==============================] - 56s 80ms/step - loss: 0.0383 - accuracy: 0.6703 - val_loss: 0.0237 - val_accuracy: 0.8026\n",
            "Epoch 8/20\n",
            "705/705 [==============================] - 56s 80ms/step - loss: 0.0375 - accuracy: 0.6791 - val_loss: 0.0231 - val_accuracy: 0.8056\n",
            "Epoch 9/20\n",
            "705/705 [==============================] - 56s 80ms/step - loss: 0.0369 - accuracy: 0.6844 - val_loss: 0.0223 - val_accuracy: 0.8110\n",
            "Epoch 10/20\n",
            "705/705 [==============================] - 56s 80ms/step - loss: 0.0365 - accuracy: 0.6887 - val_loss: 0.0221 - val_accuracy: 0.8120\n",
            "Epoch 11/20\n",
            "705/705 [==============================] - 56s 80ms/step - loss: 0.0359 - accuracy: 0.6893 - val_loss: 0.0219 - val_accuracy: 0.8140\n",
            "Epoch 12/20\n",
            "705/705 [==============================] - 57s 80ms/step - loss: 0.0357 - accuracy: 0.6929 - val_loss: 0.0216 - val_accuracy: 0.8135\n",
            "Epoch 13/20\n",
            "705/705 [==============================] - 56s 80ms/step - loss: 0.0352 - accuracy: 0.7007 - val_loss: 0.0216 - val_accuracy: 0.8185\n",
            "Epoch 14/20\n",
            "705/705 [==============================] - 56s 80ms/step - loss: 0.0352 - accuracy: 0.7006 - val_loss: 0.0212 - val_accuracy: 0.8191\n",
            "Epoch 15/20\n",
            "705/705 [==============================] - 56s 80ms/step - loss: 0.0345 - accuracy: 0.7034 - val_loss: 0.0213 - val_accuracy: 0.8176\n",
            "Epoch 16/20\n",
            "705/705 [==============================] - 56s 80ms/step - loss: 0.0346 - accuracy: 0.7062 - val_loss: 0.0212 - val_accuracy: 0.8189\n",
            "Epoch 17/20\n",
            "705/705 [==============================] - 56s 80ms/step - loss: 0.0345 - accuracy: 0.7035 - val_loss: 0.0209 - val_accuracy: 0.8193\n",
            "Epoch 18/20\n",
            "705/705 [==============================] - 57s 80ms/step - loss: 0.0342 - accuracy: 0.7065 - val_loss: 0.0209 - val_accuracy: 0.8207\n",
            "Epoch 19/20\n",
            "705/705 [==============================] - 57s 80ms/step - loss: 0.0340 - accuracy: 0.7105 - val_loss: 0.0207 - val_accuracy: 0.8226\n",
            "Epoch 20/20\n",
            "705/705 [==============================] - 57s 80ms/step - loss: 0.0337 - accuracy: 0.7111 - val_loss: 0.0205 - val_accuracy: 0.8225\n"
          ],
          "name": "stdout"
        }
      ]
    },
    {
      "cell_type": "code",
      "metadata": {
        "id": "xV2CA9_8LPQm",
        "outputId": "16d33d03-42fc-4d3d-aa95-9c5dd6630024"
      },
      "source": [
        "print(np.mean(train_result[0].history['accuracy']))\n",
        "print(np.mean(train_result[1].history['accuracy']))\n",
        "print(np.mean(train_result[2].history['accuracy']))\n",
        "print(np.mean(train_result[3].history['accuracy']))\n",
        "print(np.mean(train_result[4].history['accuracy']))\n",
        "print(np.mean(train_result[5].history['accuracy']))\n",
        "print(np.mean(train_result[6].history['accuracy']))\n",
        "print(np.mean(train_result[7].history['accuracy']))\n"
      ],
      "execution_count": null,
      "outputs": [
        {
          "output_type": "stream",
          "text": [
            "0.8724080234766006\n",
            "0.8580241590738297\n",
            "0.8398376524448394\n",
            "0.8191544756293296\n",
            "0.7976706564426422\n",
            "0.7642957642674446\n",
            "0.7214184373617172\n",
            "0.645595633238554\n"
          ],
          "name": "stdout"
        }
      ]
    },
    {
      "cell_type": "code",
      "metadata": {
        "id": "GpAqk9DpLPQm"
      },
      "source": [
        "model = Sequential()\n",
        "model.add(Conv2D(24,kernel_size=5,activation='relu',input_shape=(28,28,1)))\n",
        "model.add(MaxPool2D())\n",
        "model.add(Dropout(0))\n",
        "model.add(Conv2D(48,kernel_size=5,activation='relu'))\n",
        "model.add(MaxPool2D())\n",
        "model.add(Dropout(0))\n",
        "model.add(Flatten())\n",
        "model.add(Dense(256, activation='relu'))\n",
        "model.add(Dropout(0))\n",
        "model.add(Dense(47, activation='sigmoid'))\n",
        "model.compile(optimizer=\"adam\", loss=\"binary_crossentropy\", metrics=[\"accuracy\"])"
      ],
      "execution_count": null,
      "outputs": []
    },
    {
      "cell_type": "code",
      "metadata": {
        "id": "qjV5gUHJLPQm",
        "outputId": "6c20ece8-1a6f-4269-9c43-af54e7faea04"
      },
      "source": [
        "train = model.fit(trainX[:10], trainY[:10],batch_size = 128, epochs = 20,validation_data=(validationX[:10],validationY[:10]))\n",
        "#train.history['accuracy']"
      ],
      "execution_count": null,
      "outputs": [
        {
          "output_type": "stream",
          "text": [
            "Epoch 1/20\n",
            "1/1 [==============================] - 1s 887ms/step - loss: 0.6930 - accuracy: 0.0000e+00 - val_loss: 0.6272 - val_accuracy: 0.1000\n",
            "Epoch 2/20\n",
            "1/1 [==============================] - 0s 60ms/step - loss: 0.6272 - accuracy: 0.0000e+00 - val_loss: 0.5552 - val_accuracy: 0.1000\n",
            "Epoch 3/20\n",
            "1/1 [==============================] - 0s 62ms/step - loss: 0.5551 - accuracy: 0.0000e+00 - val_loss: 0.4623 - val_accuracy: 0.1000\n",
            "Epoch 4/20\n",
            "1/1 [==============================] - 0s 59ms/step - loss: 0.4624 - accuracy: 0.1000 - val_loss: 0.3520 - val_accuracy: 0.0000e+00\n",
            "Epoch 5/20\n",
            "1/1 [==============================] - 0s 62ms/step - loss: 0.3527 - accuracy: 0.1000 - val_loss: 0.2450 - val_accuracy: 0.0000e+00\n",
            "Epoch 6/20\n",
            "1/1 [==============================] - 0s 71ms/step - loss: 0.2441 - accuracy: 0.1000 - val_loss: 0.1647 - val_accuracy: 0.0000e+00\n",
            "Epoch 7/20\n",
            "1/1 [==============================] - 0s 56ms/step - loss: 0.1594 - accuracy: 0.1000 - val_loss: 0.1222 - val_accuracy: 0.0000e+00\n",
            "Epoch 8/20\n",
            "1/1 [==============================] - 0s 64ms/step - loss: 0.1093 - accuracy: 0.0000e+00 - val_loss: 0.1168 - val_accuracy: 0.1000\n",
            "Epoch 9/20\n",
            "1/1 [==============================] - 0s 61ms/step - loss: 0.0917 - accuracy: 0.0000e+00 - val_loss: 0.1353 - val_accuracy: 0.0000e+00\n",
            "Epoch 10/20\n",
            "1/1 [==============================] - 0s 65ms/step - loss: 0.0923 - accuracy: 0.2000 - val_loss: 0.1619 - val_accuracy: 0.0000e+00\n",
            "Epoch 11/20\n",
            "1/1 [==============================] - 0s 61ms/step - loss: 0.0951 - accuracy: 0.2000 - val_loss: 0.1903 - val_accuracy: 0.0000e+00\n",
            "Epoch 12/20\n",
            "1/1 [==============================] - 0s 62ms/step - loss: 0.0950 - accuracy: 0.2000 - val_loss: 0.2169 - val_accuracy: 0.0000e+00\n",
            "Epoch 13/20\n",
            "1/1 [==============================] - 0s 63ms/step - loss: 0.0915 - accuracy: 0.2000 - val_loss: 0.2330 - val_accuracy: 0.0000e+00\n",
            "Epoch 14/20\n",
            "1/1 [==============================] - 0s 59ms/step - loss: 0.0804 - accuracy: 0.2000 - val_loss: 0.2460 - val_accuracy: 0.0000e+00\n",
            "Epoch 15/20\n",
            "1/1 [==============================] - 0s 68ms/step - loss: 0.0680 - accuracy: 0.3000 - val_loss: 0.2644 - val_accuracy: 0.0000e+00\n",
            "Epoch 16/20\n",
            "1/1 [==============================] - 0s 62ms/step - loss: 0.0624 - accuracy: 0.6000 - val_loss: 0.2872 - val_accuracy: 0.0000e+00\n",
            "Epoch 17/20\n",
            "1/1 [==============================] - 0s 63ms/step - loss: 0.0645 - accuracy: 0.5000 - val_loss: 0.3020 - val_accuracy: 0.1000\n",
            "Epoch 18/20\n",
            "1/1 [==============================] - 0s 60ms/step - loss: 0.0636 - accuracy: 0.5000 - val_loss: 0.3070 - val_accuracy: 0.0000e+00\n",
            "Epoch 19/20\n",
            "1/1 [==============================] - 0s 63ms/step - loss: 0.0551 - accuracy: 0.4000 - val_loss: 0.3132 - val_accuracy: 0.0000e+00\n",
            "Epoch 20/20\n",
            "1/1 [==============================] - 0s 59ms/step - loss: 0.0484 - accuracy: 0.5000 - val_loss: 0.3245 - val_accuracy: 0.0000e+00\n"
          ],
          "name": "stdout"
        }
      ]
    },
    {
      "cell_type": "code",
      "metadata": {
        "id": "_teQ8f2oLPQm",
        "outputId": "90062640-77c1-46b0-d178-cd1529df5dcd"
      },
      "source": [
        "train.history['accuracy']"
      ],
      "execution_count": null,
      "outputs": [
        {
          "output_type": "execute_result",
          "data": {
            "text/plain": [
              "[0.5516068339347839,\n",
              " 0.799589991569519,\n",
              " 0.8289893865585327,\n",
              " 0.8463098406791687,\n",
              " 0.8576130270957947,\n",
              " 0.864749550819397,\n",
              " 0.8726839423179626,\n",
              " 0.8789893388748169,\n",
              " 0.8841201066970825,\n",
              " 0.890159547328949,\n",
              " 0.8947252035140991,\n",
              " 0.8987699747085571,\n",
              " 0.9041888117790222,\n",
              " 0.9085327982902527,\n",
              " 0.9118240475654602,\n",
              " 0.9162898659706116,\n",
              " 0.9219193458557129,\n",
              " 0.9248892068862915,\n",
              " 0.9282247424125671,\n",
              " 0.9312499761581421]"
            ]
          },
          "metadata": {
            "tags": []
          },
          "execution_count": 14
        }
      ]
    },
    {
      "cell_type": "code",
      "metadata": {
        "id": "WV5m6W83LPQn",
        "outputId": "f87d4b50-747a-4fb9-e361-cbca57667b29"
      },
      "source": [
        "model.evaluate(trainX, trainY, batch_size=128)\n",
        "model.evaluate(validationX,validationY,batch_size=128)\n",
        "model.evaluate(testX,testY,batch_size=128)"
      ],
      "execution_count": null,
      "outputs": [
        {
          "output_type": "stream",
          "text": [
            "705/705 [==============================] - 14s 19ms/step - loss: 0.0071 - accuracy: 0.9390\n",
            "177/177 [==============================] - 3s 19ms/step - loss: 0.0195 - accuracy: 0.8615\n",
            "147/147 [==============================] - 3s 20ms/step - loss: 0.0207 - accuracy: 0.8592\n"
          ],
          "name": "stdout"
        },
        {
          "output_type": "execute_result",
          "data": {
            "text/plain": [
              "[0.02065831981599331, 0.8592021465301514]"
            ]
          },
          "metadata": {
            "tags": []
          },
          "execution_count": 16
        }
      ]
    },
    {
      "cell_type": "code",
      "metadata": {
        "id": "sbFj9ANbLPQn",
        "outputId": "907ae1a1-9f14-453a-9255-e5d72226ee66"
      },
      "source": [
        "model.predict_classes(trainX[:10])"
      ],
      "execution_count": null,
      "outputs": [
        {
          "output_type": "execute_result",
          "data": {
            "text/plain": [
              "array([ 6, 13, 18,  1, 20,  6,  6,  1,  6,  6], dtype=int64)"
            ]
          },
          "metadata": {
            "tags": []
          },
          "execution_count": 25
        }
      ]
    },
    {
      "cell_type": "code",
      "metadata": {
        "id": "10bzOR1TLPQo"
      },
      "source": [
        "images_train, trainY = extract_training_samples('balanced')\n",
        "images_test, testY = extract_test_samples('balanced')\n",
        "#reshape data\n",
        "trainX =images_train.reshape(images_train.shape[0],28,28,1)\n",
        "testX = images_test.reshape(images_test.shape[0],28,28,1)\n",
        "#normalization \n",
        "trainX = tf.keras.utils.normalize(trainX, axis=-1, order=2)\n",
        "testX = tf.keras.utils.normalize(testX, axis=-1, order=2)\n",
        "#train validation split \n",
        "trainX, validationX, trainY, validationY = train_test_split(trainX,trainY,test_size = 0.2)"
      ],
      "execution_count": null,
      "outputs": []
    },
    {
      "cell_type": "code",
      "metadata": {
        "id": "wVt7BpFrLPQo",
        "outputId": "2da30865-a0ff-43f9-ebef-ea4f2a6e6c86"
      },
      "source": [
        "#confusion matrix \n",
        "import matplotlib.pyplot as plt\n",
        "from sklearn.metrics import confusion_matrix\n",
        "x = confusion_matrix(trainY,model.predict_classes(trainX))\n",
        "x.shape\n",
        "#dendrogram \n",
        "from scipy.cluster import hierarchy\n",
        "plt.figure(figsize=(10, 7))\n",
        "Y = hierarchy.distance.pdist(x, metric='euclidean')\n",
        "Z = hierarchy.linkage(Y, method='complete')\n",
        "ax = hierarchy.dendrogram(Z, show_contracted=True)"
      ],
      "execution_count": null,
      "outputs": [
        {
          "output_type": "display_data",
          "data": {
            "image/png": "[encoded data removed]",
            "text/plain": [
              "<Figure size 720x504 with 1 Axes>"
            ]
          },
          "metadata": {
            "tags": [],
            "needs_background": "light"
          }
        }
      ]
    },
    {
      "cell_type": "code",
      "metadata": {
        "id": "vNLPIjHYLPQo",
        "outputId": "115dfb08-651e-4dd2-9389-e796168e5e12"
      },
      "source": [
        "x = confusion_matrix(validationY,model.predict_classes(validationX))\n",
        "x.shape\n",
        "#dendrogram \n",
        "from scipy.cluster import hierarchy\n",
        "plt.figure(figsize=(10, 7))\n",
        "Y = hierarchy.distance.pdist(x, metric='euclidean')\n",
        "Z = hierarchy.linkage(Y, method='complete')\n",
        "ax = hierarchy.dendrogram(Z, show_contracted=True)"
      ],
      "execution_count": null,
      "outputs": [
        {
          "output_type": "display_data",
          "data": {
            "image/png": "[encoded data removed]",
            "text/plain": [
              "<Figure size 720x504 with 1 Axes>"
            ]
          },
          "metadata": {
            "tags": [],
            "needs_background": "light"
          }
        }
      ]
    },
    {
      "cell_type": "code",
      "metadata": {
        "id": "8dYbuzS8LPQp",
        "outputId": "cc2ac741-13ac-4340-ed38-058c1ce51572"
      },
      "source": [
        "x = confusion_matrix(testY,model.predict_classes(testX))\n",
        "x.shape\n",
        "#dendrogram \n",
        "from scipy.cluster import hierarchy\n",
        "plt.figure(figsize=(10, 7))\n",
        "Y = hierarchy.distance.pdist(x, metric='euclidean')\n",
        "Z = hierarchy.linkage(Y, method='complete')\n",
        "ax = hierarchy.dendrogram(Z, show_contracted=True)"
      ],
      "execution_count": null,
      "outputs": [
        {
          "output_type": "display_data",
          "data": {
            "image/png": "[encoded data removed]",
            "text/plain": [
              "<Figure size 720x504 with 1 Axes>"
            ]
          },
          "metadata": {
            "tags": [],
            "needs_background": "light"
          }
        }
      ]
    },
    {
      "cell_type": "code",
      "metadata": {
        "id": "n_G7cu6sLPQp"
      },
      "source": [
        "#convolution autoencoder \n",
        "from keras.layers import Dense, Flatten, Reshape, Input, InputLayer\n",
        "from keras.models import Sequential, Model\n",
        "images_train, trainY = extract_training_samples('balanced')\n",
        "images_test, testY = extract_test_samples('balanced')\n",
        "#reshape data\n",
        "trainX =images_train.reshape(images_train.shape[0],28,28,1)\n",
        "testX = images_test.reshape(images_test.shape[0],28,28,1)\n",
        "#normalization \n",
        "trainX = tf.keras.utils.normalize(trainX, axis=-1, order=2)\n",
        "testX = tf.keras.utils.normalize(testX, axis=-1, order=2)\n",
        "#train validation split \n",
        "trainX, validationX, trainY, validationY = train_test_split(trainX,trainY,test_size = 0.2)\n",
        "#to_caegorical \n",
        "#trainY = to_categorical (trainY)\n",
        "#validationY = to_categorical(validationY)\n",
        "#testY = to_categorical(testY)"
      ],
      "execution_count": null,
      "outputs": []
    },
    {
      "cell_type": "code",
      "metadata": {
        "id": "Y5jtus1VLPQp",
        "outputId": "e9df4ac5-680a-40b4-9042-3c09a8492101"
      },
      "source": [
        "encoding_dim = 28\n",
        "input_img = keras.Input(shape=(28, 28, 1))\n",
        "\n",
        "x = layers.Conv2D(16, (3, 3), activation='relu', padding='same')(input_img)\n",
        "x = layers.MaxPooling2D((2, 2), padding='same')(x)\n",
        "x = layers.Conv2D(8, (3, 3), activation='relu', padding='same')(x)\n",
        "x = layers.MaxPooling2D((2, 2), padding='same')(x)\n",
        "x = layers.Conv2D(8, (3, 3), activation='relu', padding='same')(x)\n",
        "encoded = layers.MaxPooling2D((2, 2), padding='same')(x)\n",
        "\n",
        "# at this point the representation is (4, 4, 8) i.e. 128-dimensional\n",
        "\n",
        "x = layers.Conv2D(8, (3, 3), activation='relu', padding='same')(encoded)\n",
        "x = layers.UpSampling2D((2, 2))(x)\n",
        "x = layers.Conv2D(8, (3, 3), activation='relu', padding='same')(x)\n",
        "x = layers.UpSampling2D((2, 2))(x)\n",
        "x = layers.Conv2D(16, (3, 3), activation='relu')(x)\n",
        "x = layers.UpSampling2D((2, 2))(x)\n",
        "decoded = layers.Conv2D(1, (3, 3), activation='sigmoid', padding='same')(x)\n",
        "\n",
        "autoencoder = keras.Model(input_img, decoded)\n",
        "autoencoder.compile(optimizer='adam', loss='binary_crossentropy')\n",
        "autoencoder_train = autoencoder.fit(trainX, trainX,\n",
        "                epochs=20,\n",
        "                batch_size=128,\n",
        "                shuffle=True,\n",
        "                validation_data=(validationX, validationX))"
      ],
      "execution_count": null,
      "outputs": [
        {
          "output_type": "stream",
          "text": [
            "Epoch 1/20\n",
            "705/705 [==============================] - 109s 152ms/step - loss: 0.2945 - val_loss: 0.1334\n",
            "Epoch 2/20\n",
            "705/705 [==============================] - 104s 148ms/step - loss: 0.1268 - val_loss: 0.1109\n",
            "Epoch 3/20\n",
            "705/705 [==============================] - 111s 157ms/step - loss: 0.1088 - val_loss: 0.1017\n",
            "Epoch 4/20\n",
            "705/705 [==============================] - 103s 146ms/step - loss: 0.1008 - val_loss: 0.0958\n",
            "Epoch 5/20\n",
            "705/705 [==============================] - 103s 146ms/step - loss: 0.0952 - val_loss: 0.0917\n",
            "Epoch 6/20\n",
            "705/705 [==============================] - 114s 162ms/step - loss: 0.0912 - val_loss: 0.0881\n",
            "Epoch 7/20\n",
            "705/705 [==============================] - 108s 153ms/step - loss: 0.0881 - val_loss: 0.0857\n",
            "Epoch 8/20\n",
            "705/705 [==============================] - 107s 151ms/step - loss: 0.0853 - val_loss: 0.0830\n",
            "Epoch 9/20\n",
            "705/705 [==============================] - 106s 151ms/step - loss: 0.0833 - val_loss: 0.0816\n",
            "Epoch 10/20\n",
            "705/705 [==============================] - 105s 149ms/step - loss: 0.0813 - val_loss: 0.0814\n",
            "Epoch 11/20\n",
            "705/705 [==============================] - 105s 149ms/step - loss: 0.0796 - val_loss: 0.0776\n",
            "Epoch 12/20\n",
            "705/705 [==============================] - 105s 149ms/step - loss: 0.0780 - val_loss: 0.0764\n",
            "Epoch 13/20\n",
            "705/705 [==============================] - 104s 147ms/step - loss: 0.0769 - val_loss: 0.0755\n",
            "Epoch 14/20\n",
            "705/705 [==============================] - 104s 148ms/step - loss: 0.0755 - val_loss: 0.0741\n",
            "Epoch 15/20\n",
            "705/705 [==============================] - 107s 152ms/step - loss: 0.0745 - val_loss: 0.0735\n",
            "Epoch 16/20\n",
            "705/705 [==============================] - 104s 147ms/step - loss: 0.0737 - val_loss: 0.0725\n",
            "Epoch 17/20\n",
            "705/705 [==============================] - 104s 148ms/step - loss: 0.0729 - val_loss: 0.0731\n",
            "Epoch 18/20\n",
            "705/705 [==============================] - 104s 147ms/step - loss: 0.0723 - val_loss: 0.0712\n",
            "Epoch 19/20\n",
            "705/705 [==============================] - 104s 147ms/step - loss: 0.0715 - val_loss: 0.0706\n",
            "Epoch 20/20\n",
            "705/705 [==============================] - 104s 147ms/step - loss: 0.0711 - val_loss: 0.0699\n"
          ],
          "name": "stdout"
        }
      ]
    },
    {
      "cell_type": "code",
      "metadata": {
        "id": "Si2vs1lFLPQr",
        "outputId": "feff67e2-7957-4a4f-f6ed-b85f59cc824a"
      },
      "source": [
        "plt.figure(figsize=[6, 6])\n",
        "plt.plot(autoencoder_train.history['loss'])\n",
        "plt.plot(autoencoder_train.history['val_loss'])\n",
        "plt.title('model loss')\n",
        "plt.ylabel('loss')\n",
        "plt.xlabel('epoch')\n",
        "plt.legend(['train', 'validation'], loc='upper right')\n",
        "plt.show()"
      ],
      "execution_count": null,
      "outputs": [
        {
          "output_type": "display_data",
          "data": {
            "image/png": "[encoded data removed]",
            "text/plain": [
              "<Figure size 432x432 with 1 Axes>"
            ]
          },
          "metadata": {
            "tags": [],
            "needs_background": "light"
          }
        }
      ]
    },
    {
      "cell_type": "code",
      "metadata": {
        "id": "Aav5GR-eLPQr"
      },
      "source": [
        "preds = predict(autoencoder_train, test_data, threshold)\n",
        "print_stats(preds, test_labels)"
      ],
      "execution_count": null,
      "outputs": []
    },
    {
      "cell_type": "markdown",
      "metadata": {
        "id": "tROn4TajKYtv"
      },
      "source": [
        "##**Confusion Matrix**##"
      ]
    },
    {
      "cell_type": "code",
      "metadata": {
        "id": "zoPk8YW_LPQv",
        "outputId": "3ffa3210-4355-448c-8430-fc43c2c8b246"
      },
      "source": [
        "import numpy \n",
        "numpy.arange(3)"
      ],
      "execution_count": null,
      "outputs": [
        {
          "output_type": "execute_result",
          "data": {
            "text/plain": [
              "array([0, 1, 2])"
            ]
          },
          "metadata": {
            "tags": []
          },
          "execution_count": 21
        }
      ]
    },
    {
      "cell_type": "code",
      "metadata": {
        "id": "ZdEgL7W6KcQv",
        "outputId": "1ad8240e-c7d8-4226-cfad-669043db741f"
      },
      "source": [
        "import matplotlib\n",
        "import matplotlib.pyplot as plt\n",
        "import numpy as np\n",
        "n = 3\n",
        "ind = numpy.arange(n)\n",
        "width = 0.35\n",
        "x = ['Training dataset', 'Validation dataset', 'Testing dataset']\n",
        "svm = [0.86,0.76,0.76]\n",
        "cnn = [0.939,0.8615,0.8592]\n",
        "# plt.figure(figsize=[15, 10])\n",
        "plt.figure(figsize=[7, 6.5])\n",
        "plt.bar(ind,svm,width = 0.35)\n",
        "plt.bar(ind+width,cnn, width = 0.35)\n",
        "plt.legend(['svm','cnn'])\n",
        "plt.xticks([i+0.175 for i in range(3)], x)\n",
        "plt.ylabel('accuracy')\n",
        "plt.show()"
      ],
      "execution_count": null,
      "outputs": [
        {
          "output_type": "display_data",
          "data": {
            "image/png": "[encoded data removed]",
            "text/plain": [
              "<Figure size 504x468 with 1 Axes>"
            ]
          },
          "metadata": {
            "tags": [],
            "needs_background": "light"
          }
        }
      ]
    },
    {
      "cell_type": "code",
      "metadata": {
        "id": "q74LDvERLPQw"
      },
      "source": [
        ""
      ],
      "execution_count": null,
      "outputs": []
    },
    {
      "cell_type": "code",
      "metadata": {
        "id": "ppLGLaFNLPQw"
      },
      "source": [
        ""
      ],
      "execution_count": null,
      "outputs": []
    },
    {
      "cell_type": "code",
      "metadata": {
        "id": "T1jxb1GvLPQw"
      },
      "source": [
        ""
      ],
      "execution_count": null,
      "outputs": []
    }
  ]
}